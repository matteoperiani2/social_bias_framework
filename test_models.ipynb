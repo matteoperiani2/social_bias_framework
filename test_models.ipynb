{
 "cells": [
  {
   "cell_type": "code",
   "execution_count": 1,
   "metadata": {},
   "outputs": [],
   "source": [
    "%load_ext autoreload\n",
    "%autoreload 2"
   ]
  },
  {
   "cell_type": "code",
   "execution_count": 2,
   "metadata": {},
   "outputs": [
    {
     "name": "stderr",
     "output_type": "stream",
     "text": [
      "2023-11-17 19:42:04.674497: I tensorflow/core/platform/cpu_feature_guard.cc:182] This TensorFlow binary is optimized to use available CPU instructions in performance-critical operations.\n",
      "To enable the following instructions: AVX2 FMA, in other operations, rebuild TensorFlow with the appropriate compiler flags.\n",
      "2023-11-17 19:42:05.511487: W tensorflow/compiler/tf2tensorrt/utils/py_utils.cc:38] TF-TRT Warning: Could not find TensorRT\n"
     ]
    }
   ],
   "source": [
    "import numpy as np\n",
    "import pandas as pd\n",
    "import torch\n",
    "\n",
    "from src.config import CONFIG\n",
    "from src.dataset import SBICDataset\n",
    "from src.train_utils import * \n",
    "# from src.train_utils import make_tokinzer, make_model, make_dataloader, evaluate\n",
    "from src.utils import print_evaluation_results\n",
    "from transformers import set_seed\n"
   ]
  },
  {
   "cell_type": "code",
   "execution_count": 70,
   "metadata": {},
   "outputs": [
    {
     "name": "stdout",
     "output_type": "stream",
     "text": [
      "List of all special token and its token_id:\n",
      " - ['<|endoftext|>', '<|sep|>', '<|pad|>', '<|offY|>', '<|offN|>', '<|sexY|>', '<|sexN|>', '<|intY|>', '<|intN|>', '<|grpY|>', '<|grpN|>', '<|ingrpN|>', '<|ingrpY|>']\n",
      " - [[50256], [50258], [50257], [50259], [50260], [50261], [50262], [50263], [50264], [50265], [50266], [50267], [50268]]\n",
      "Model vocab resize: 50269\n",
      "Model eos token: 50256\n",
      "Model pad token: 50257\n",
      "Model sep token: 50258\n",
      "Training...\n"
     ]
    },
    {
     "name": "stderr",
     "output_type": "stream",
     "text": [
      "  0%|          | 0/200 [00:00<?, ?epoch/s]You're using a GPT2TokenizerFast tokenizer. Please note that with a fast tokenizer, using the `__call__` method is faster than using a method to encode the text followed by a call to the `pad` method to get a padded encoding.\n",
      "Epoch 199: 100%|█████████▉| 199/200 [00:10<00:00, 17.60epoch/s, loss=5.56e-8] "
     ]
    },
    {
     "name": "stdout",
     "output_type": "stream",
     "text": [
      "Evaluation after the 200 steps...\n"
     ]
    },
    {
     "name": "stderr",
     "output_type": "stream",
     "text": [
      "Epoch 199: 100%|██████████| 200/200 [00:10<00:00, 18.35epoch/s, loss=2.38e-8]\n"
     ]
    },
    {
     "name": "stdout",
     "output_type": "stream",
     "text": [
      "Epoch 199:\n",
      " - loss=1.7802 def_loss=0.0000\n",
      " - avg_val_loss=17.0011, avg_val_loss_def=13.7297\n"
     ]
    }
   ],
   "source": [
    "config = CONFIG.hp\n",
    "config.num_epochs = 200\n",
    "\n",
    "set_seed(config.seed)\n",
    "\n",
    "# Make the model\n",
    "tokenizer = make_tokinzer(config)\n",
    "model = make_model(config, tokenizer)\n",
    "\n",
    "# Make the data\n",
    "train_data = get_data(\"train\")\n",
    "val_data = get_data(\"validation\")\n",
    "\n",
    "# if config.train_perc != 1 or config.val_perc != 1:\n",
    "#     train_size = int((config.train_perc * len(train_data)) / config.batch_size) * config.batch_size\n",
    "#     val_size = int((config.val_perc * len(val_data)) / config.batch_size) * config.batch_size\n",
    "#     train_idxs = np.random.choice(train_data.shape[0], train_size, replace=False)\n",
    "#     val_idxs = np.random.choice(val_data.shape[0], val_size, replace=False)\n",
    "    \n",
    "#     train_data = train_data[train_idxs]\n",
    "#     val_data = val_data[val_idxs]\n",
    "\n",
    "train_data = train_data[9:10]\n",
    "val_data = val_data[:1]\n",
    "\n",
    "train_dataset = SBICDataset(train_data, tokenizer)\n",
    "val_dataset = SBICDataset(val_data, tokenizer)\n",
    "\n",
    "train_dataloader = make_dataloader(train_dataset, model, tokenizer, config, split=\"train\")\n",
    "val_dataloader = make_dataloader(val_dataset, model, tokenizer, config, split=\"validation\")\n",
    "\n",
    "# Make the loss, the optimizer and the scheduler\n",
    "optimizer = make_optimizer(model, config)\n",
    "scheduler = make_scheduler(\n",
    "    optimizer, steps_per_epoch=len(train_dataloader), config=config\n",
    ")\n",
    "\n",
    "train(\n",
    "    model,\n",
    "    train_dataloader,\n",
    "    val_dataloader,\n",
    "    optimizer,\n",
    "    scheduler,\n",
    "    config,\n",
    "    monitor=False,\n",
    "    use_def_loss=False\n",
    ")"
   ]
  },
  {
   "cell_type": "code",
   "execution_count": 71,
   "metadata": {},
   "outputs": [
    {
     "data": {
      "text/plain": [
       "array([['RT @iBeZo: Stupid fucking nigger LeBron. You flopping stupid jungle bunny monkey faggot.',\n",
       "        1, 1, 0, 1, list(['black folks']),\n",
       "        list(['black folks are stupid']), 0, 't/davidson']], dtype=object)"
      ]
     },
     "execution_count": 71,
     "metadata": {},
     "output_type": "execute_result"
    }
   ],
   "source": [
    "train_data[0, 5] = [train_data[0, 5]]\n",
    "train_data[0, 6] = [train_data[0, 6]]\n",
    "train_data"
   ]
  },
  {
   "cell_type": "code",
   "execution_count": 72,
   "metadata": {},
   "outputs": [
    {
     "name": "stderr",
     "output_type": "stream",
     "text": [
      "                                             "
     ]
    },
    {
     "name": "stdout",
     "output_type": "stream",
     "text": [
      "Classification F1 on train set: avg=1.000\n",
      " - Offensive: 1.000\n",
      " - Intent: 1.000\n",
      " - Sex: 1.000\n",
      " - Group: 1.000\n",
      " - In-Group: 1.000\n",
      "Minority RougeL-f1 on train set: 1.000\n",
      "Stereotype RougeL-f1 on train set: 1.000\n"
     ]
    },
    {
     "name": "stderr",
     "output_type": "stream",
     "text": [
      "\r"
     ]
    }
   ],
   "source": [
    "dataset = SBICDataset(train_data, tokenizer, is_training=False)\n",
    "dataloader = make_dataloader(dataset, model, tokenizer, CONFIG.hp, split=\"validation\")\n",
    "\n",
    "res = evaluate(model, tokenizer, dataloader, CONFIG.hp)\n",
    "\n",
    "print_evaluation_results(split=\"train\", res=res)"
   ]
  },
  {
   "cell_type": "code",
   "execution_count": 54,
   "metadata": {},
   "outputs": [
    {
     "data": {
      "text/plain": [
       "['RT @iBeZo: Stupid fucking nigger LeBron. You flopping stupid jungle bunny monkey faggot.<|sep|><|offY|><|intY|><|sexN|><|grpY|><|sep|>black folks<|sep|>black folks are stupid<|sep|><|ingrpN|><|endoftext|>']"
      ]
     },
     "execution_count": 54,
     "metadata": {},
     "output_type": "execute_result"
    }
   ],
   "source": [
    "tokenizer.batch_decode([data[\"input_ids\"] for data in train_dataloader][0], skip_special_tokens=False)"
   ]
  },
  {
   "cell_type": "code",
   "execution_count": 73,
   "metadata": {},
   "outputs": [
    {
     "data": {
      "text/plain": [
       "['RT @iBeZo: Stupid fucking nigger LeBron. You flopping stupid jungle bunny monkey faggot.<|sep|><|offY|><|intY|><|sexN|><|grpY|><|sep|>black folks<|sep|>black folks are stupid<|sep|><|ingrpN|><|endoftext|>']"
      ]
     },
     "execution_count": 73,
     "metadata": {},
     "output_type": "execute_result"
    }
   ],
   "source": [
    "tokenizer.batch_decode(res[\"out_tokens\"], skip_special_tokens=False)"
   ]
  },
  {
   "cell_type": "code",
   "execution_count": 3,
   "metadata": {},
   "outputs": [
    {
     "name": "stdout",
     "output_type": "stream",
     "text": [
      "List of all special token and its token_id:\n",
      " - ['<|endoftext|>', '<|sep|>', '<|pad|>', '<|offY|>', '<|offN|>', '<|sexY|>', '<|sexN|>', '<|intY|>', '<|intN|>', '<|grpY|>', '<|grpN|>', '<|ingrpN|>', '<|ingrpY|>']\n",
      " - [[50256], [50258], [50257], [50259], [50260], [50261], [50262], [50263], [50264], [50265], [50266], [50267], [50268]]\n",
      "Model vocab resize: 50269\n",
      "Model eos token: 50256\n",
      "Model pad token: 50257\n",
      "Model sep token: 50258\n"
     ]
    },
    {
     "data": {
      "text/plain": [
       "<All keys matched successfully>"
      ]
     },
     "execution_count": 3,
     "metadata": {},
     "output_type": "execute_result"
    }
   ],
   "source": [
    "tokenizer = make_tokinzer(CONFIG.hp)\n",
    "model = make_model(CONFIG.hp, tokenizer)\n",
    "checkpoints = \"distilgpt2_full_1\"\n",
    "model.load_state_dict(torch.load(f\"checkpoints/{checkpoints}.pt\"))"
   ]
  },
  {
   "cell_type": "markdown",
   "metadata": {},
   "source": [
    "Classification F1 on validation set: avg=0.640\n",
    " - Offensive: 0.656\n",
    " - Intent: 0.625\n",
    " - Sex: 0.757\n",
    " - Group: 0.342\n",
    " - In-Group: 0.820\n",
    "\n",
    "Minority RougeL-f1 on validation set: 0.510\n",
    "\n",
    "Stereotype RougeL-f1 on validation set: 0.354"
   ]
  },
  {
   "cell_type": "code",
   "execution_count": 6,
   "metadata": {},
   "outputs": [
    {
     "name": "stderr",
     "output_type": "stream",
     "text": [
      "  0%|          | 0/125 [00:00<?, ?it/s]You're using a GPT2TokenizerFast tokenizer. Please note that with a fast tokenizer, using the `__call__` method is faster than using a method to encode the text followed by a call to the `pad` method to get a padded encoding.\n",
      "                                                 "
     ]
    },
    {
     "name": "stdout",
     "output_type": "stream",
     "text": [
      "Classification F1 on validation set: avg=0.120\n",
      " - Offensive: 0.294\n",
      " - Intent: 0.053\n",
      " - Sex: 0.254\n",
      " - Group: 0.000\n",
      " - In-Group: 0.000\n",
      "Minority RougeL-f1 on validation set: 0.008\n",
      "Stereotype RougeL-f1 on validation set: 0.003\n"
     ]
    },
    {
     "name": "stderr",
     "output_type": "stream",
     "text": [
      "\r"
     ]
    }
   ],
   "source": [
    "split = \"validation\"\n",
    "data = pd.read_pickle(CONFIG.dataset.val_data_agg).to_numpy()[:1000]\n",
    "dataset = SBICDataset(data, tokenizer, is_training=False)\n",
    "dataloader = make_dataloader(dataset, model, tokenizer, CONFIG.hp, split=\"validation\")\n",
    "\n",
    "val_res = evaluate(model, tokenizer, dataloader, CONFIG.hp)\n",
    "\n",
    "print_evaluation_results(split=split, res=val_res)"
   ]
  },
  {
   "cell_type": "code",
   "execution_count": 6,
   "metadata": {},
   "outputs": [
    {
     "name": "stderr",
     "output_type": "stream",
     "text": [
      "                                               "
     ]
    },
    {
     "name": "stdout",
     "output_type": "stream",
     "text": [
      "Classification F1 on test set: avg=0.735\n",
      " - Offensive: 0.711\n",
      " - Intent: 0.676\n",
      " - Sex: 0.886\n",
      " - Group: 0.709\n",
      " - In-Group: 0.692\n",
      "Minority RougeL-f1 on test set: 0.681\n",
      "Stereotype RougeL-f1 on test set: 0.421\n"
     ]
    },
    {
     "name": "stderr",
     "output_type": "stream",
     "text": [
      "\r"
     ]
    }
   ],
   "source": [
    "split = \"test\"\n",
    "data = pd.read_pickle(CONFIG.dataset.test_data_agg).to_numpy()[:100]\n",
    "dataset = SBICDataset(data, tokenizer, is_training=False)\n",
    "dataloader = make_dataloader(dataset, model, tokenizer, CONFIG.hp, split=\"validation\")\n",
    "\n",
    "test_res = evaluate(model, tokenizer, dataloader, CONFIG.hp)\n",
    "\n",
    "print_evaluation_results(split=split, res=test_res)"
   ]
  }
 ],
 "metadata": {
  "kernelspec": {
   "display_name": "nlp",
   "language": "python",
   "name": "python3"
  },
  "language_info": {
   "codemirror_mode": {
    "name": "ipython",
    "version": 3
   },
   "file_extension": ".py",
   "mimetype": "text/x-python",
   "name": "python",
   "nbconvert_exporter": "python",
   "pygments_lexer": "ipython3",
   "version": "3.11.4"
  },
  "orig_nbformat": 4
 },
 "nbformat": 4,
 "nbformat_minor": 2
}
