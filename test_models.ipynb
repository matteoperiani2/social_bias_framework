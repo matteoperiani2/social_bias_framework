{
 "cells": [
  {
   "cell_type": "code",
   "execution_count": 1,
   "metadata": {},
   "outputs": [],
   "source": [
    "%load_ext autoreload\n",
    "%autoreload 2"
   ]
  },
  {
   "cell_type": "code",
   "execution_count": 42,
   "metadata": {},
   "outputs": [],
   "source": [
    "import pandas as pd\n",
    "import torch\n",
    "\n",
    "from src.config import CONFIG\n",
    "from src.dataset import SBICDataset\n",
    "from src.train_utils import make_tokinzer, make_model, make_dataloader, evaluate\n",
    "from src.utils import print_evaluation_results"
   ]
  },
  {
   "cell_type": "code",
   "execution_count": 3,
   "metadata": {},
   "outputs": [
    {
     "name": "stdout",
     "output_type": "stream",
     "text": [
      "List of all special token and its token_id:\n",
      " - ['<|endoftext|>', '<|sep|>', '<|pad|>', '<|offY|>', '<|offN|>', '<|sexY|>', '<|sexN|>', '<|intY|>', '<|intN|>', '<|grpY|>', '<|grpN|>', '<|ingrpN|>', '<|ingrpY|>']\n",
      " - [[50256], [50258], [50257], [50259], [50260], [50261], [50262], [50263], [50264], [50265], [50266], [50267], [50268]]\n",
      "Model vocab resize: 50269\n",
      "Model eos token: 50256\n",
      "Model pad token: 50257\n",
      "Model sep token: 50258\n"
     ]
    },
    {
     "data": {
      "text/plain": [
       "<All keys matched successfully>"
      ]
     },
     "execution_count": 3,
     "metadata": {},
     "output_type": "execute_result"
    }
   ],
   "source": [
    "tokenizer = make_tokinzer(CONFIG.hp)\n",
    "model = make_model(CONFIG.hp, tokenizer)\n",
    "checkpoints = \"distilgpt2_full_1\"\n",
    "model.load_state_dict(torch.load(f\"checkpoints/{checkpoints}.pt\"))"
   ]
  },
  {
   "cell_type": "code",
   "execution_count": 44,
   "metadata": {},
   "outputs": [
    {
     "name": "stderr",
     "output_type": "stream",
     "text": [
      "                                                 "
     ]
    },
    {
     "name": "stdout",
     "output_type": "stream",
     "text": [
      "Classification F1 on validation set: avg=0.697\n",
      " - Offensive: 0.652\n",
      " - Intent: 0.609\n",
      " - Sex: 0.840\n",
      " - Group: 0.479\n",
      " - In-Group: 0.905\n",
      "Minority RougeL-f1 on validation set: 0.711\n",
      "Stereotype RougeL-f1 on validation set: 0.282\n"
     ]
    },
    {
     "name": "stderr",
     "output_type": "stream",
     "text": [
      "\r"
     ]
    }
   ],
   "source": [
    "split = \"validation\"\n",
    "data = pd.read_pickle(CONFIG.dataset.val_data_agg).to_numpy()\n",
    "dataset = SBICDataset(data, tokenizer, is_training=False)\n",
    "dataloader = make_dataloader(dataset, model, tokenizer, CONFIG.hp, split=\"validation\")\n",
    "\n",
    "val_res = evaluate(model, tokenizer, dataloader, CONFIG.hp)\n",
    "\n",
    "print_evaluation_results(split=split, res=val_res)"
   ]
  },
  {
   "cell_type": "markdown",
   "metadata": {},
   "source": [
    "                                                 \n",
    "Classification F1 on validation set: avg=0.697\n",
    " - Offensive: 0.652\n",
    " - Intent: 0.609\n",
    " - Sex: 0.840\n",
    " - Group: 0.479\n",
    " - In-Group: 0.905\n",
    " \n",
    "Minority RougeL-f1 on validation set: 0.813 <br>\n",
    "Stereotype RougeL-f1 on validation set: 0.508 <br>"
   ]
  },
  {
   "cell_type": "code",
   "execution_count": 43,
   "metadata": {},
   "outputs": [
    {
     "name": "stdout",
     "output_type": "stream",
     "text": [
      "Classification F1 on test set: avg=0.704\n",
      " - Offensive: 0.654\n",
      " - Intent: 0.617\n",
      " - Sex: 0.832\n",
      " - Group: 0.508\n",
      " - In-Group: 0.911\n",
      "Minority RougeL-f1 on test set: 0.863\n",
      "Stereotype RougeL-f1 on test set: 0.531\n"
     ]
    }
   ],
   "source": [
    "split = \"test\"\n",
    "data = pd.read_pickle(CONFIG.dataset.test_data_agg).to_numpy()\n",
    "dataset = SBICDataset(data, tokenizer, is_training=False)\n",
    "dataloader = make_dataloader(dataset, model, tokenizer, CONFIG.hp, split=\"validation\")\n",
    "\n",
    "test_res = evaluate(model, tokenizer, dataloader, CONFIG.hp)\n",
    "\n",
    "print_evaluation_results(split=split, res=test_res)"
   ]
  }
 ],
 "metadata": {
  "kernelspec": {
   "display_name": "nlp",
   "language": "python",
   "name": "python3"
  },
  "language_info": {
   "codemirror_mode": {
    "name": "ipython",
    "version": 3
   },
   "file_extension": ".py",
   "mimetype": "text/x-python",
   "name": "python",
   "nbconvert_exporter": "python",
   "pygments_lexer": "ipython3",
   "version": "3.11.4"
  },
  "orig_nbformat": 4
 },
 "nbformat": 4,
 "nbformat_minor": 2
}
