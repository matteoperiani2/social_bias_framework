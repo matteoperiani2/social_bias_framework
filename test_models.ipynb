{
 "cells": [
  {
   "cell_type": "code",
   "execution_count": 1,
   "metadata": {},
   "outputs": [],
   "source": [
    "%load_ext autoreload\n",
    "%autoreload 2"
   ]
  },
  {
   "cell_type": "code",
   "execution_count": 42,
   "metadata": {},
   "outputs": [],
   "source": [
    "import pandas as pd\n",
    "import torch\n",
    "\n",
    "from src.config import CONFIG\n",
    "from src.dataset import SBICDataset\n",
    "from src.train_utils import make_tokinzer, make_model, make_dataloader, evaluate\n",
    "from src.utils import print_evaluation_results"
   ]
  },
  {
   "cell_type": "code",
   "execution_count": 3,
   "metadata": {},
   "outputs": [
    {
     "name": "stdout",
     "output_type": "stream",
     "text": [
      "List of all special token and its token_id:\n",
      " - ['<|endoftext|>', '<|sep|>', '<|pad|>', '<|offY|>', '<|offN|>', '<|sexY|>', '<|sexN|>', '<|intY|>', '<|intN|>', '<|grpY|>', '<|grpN|>', '<|ingrpN|>', '<|ingrpY|>']\n",
      " - [[50256], [50258], [50257], [50259], [50260], [50261], [50262], [50263], [50264], [50265], [50266], [50267], [50268]]\n",
      "Model vocab resize: 50269\n",
      "Model eos token: 50256\n",
      "Model pad token: 50257\n",
      "Model sep token: 50258\n"
     ]
    },
    {
     "data": {
      "text/plain": [
       "<All keys matched successfully>"
      ]
     },
     "execution_count": 3,
     "metadata": {},
     "output_type": "execute_result"
    }
   ],
   "source": [
    "tokenizer = make_tokinzer(CONFIG.hp)\n",
    "model = make_model(CONFIG.hp, tokenizer)\n",
    "checkpoints = \"distilgpt2_full_1\"\n",
    "model.load_state_dict(torch.load(f\"checkpoints/{checkpoints}.pt\"))"
   ]
  },
  {
   "cell_type": "code",
   "execution_count": 44,
   "metadata": {},
   "outputs": [
    {
     "name": "stderr",
     "output_type": "stream",
     "text": [
      "                                                 "
     ]
    },
    {
     "name": "stdout",
     "output_type": "stream",
     "text": [
      "Classification F1 on validation set: avg=0.697\n",
      " - Offensive: 0.652\n",
      " - Intent: 0.609\n",
      " - Sex: 0.840\n",
      " - Group: 0.479\n",
      " - In-Group: 0.905\n",
      "Minority RougeL-f1 on validation set: 0.711\n",
      "Stereotype RougeL-f1 on validation set: 0.282\n"
     ]
    },
    {
     "name": "stderr",
     "output_type": "stream",
     "text": [
      "\r"
     ]
    }
   ],
   "source": [
    "split = \"validation\"\n",
    "data = pd.read_pickle(CONFIG.dataset.val_data_agg).to_numpy()\n",
    "dataset = SBICDataset(data, tokenizer, is_training=False)\n",
    "dataloader = make_dataloader(dataset, model, tokenizer, CONFIG.hp, split=\"validation\")\n",
    "\n",
    "val_res = evaluate(model, tokenizer, dataloader, CONFIG.hp)\n",
    "\n",
    "print_evaluation_results(split=split, res=val_res)"
   ]
  },
  {
   "cell_type": "markdown",
   "metadata": {},
   "source": [
    "                                                 \n",
    "Classification F1 on validation set: avg=0.697\n",
    " - Offensive: 0.652\n",
    " - Intent: 0.609\n",
    " - Sex: 0.840\n",
    " - Group: 0.479\n",
    " - In-Group: 0.905\n",
    " \n",
    "Minority RougeL-f1 on validation set: 0.813 <br>\n",
    "Stereotype RougeL-f1 on validation set: 0.508 <br>"
   ]
  },
  {
   "cell_type": "code",
   "execution_count": 43,
   "metadata": {},
   "outputs": [
    {
     "name": "stdout",
     "output_type": "stream",
     "text": [
      "Classification F1 on test set: avg=0.704\n",
      " - Offensive: 0.654\n",
      " - Intent: 0.617\n",
      " - Sex: 0.832\n",
      " - Group: 0.508\n",
      " - In-Group: 0.911\n",
      "Minority RougeL-f1 on test set: 0.863\n",
      "Stereotype RougeL-f1 on test set: 0.531\n"
     ]
    }
   ],
   "source": [
    "split = \"test\"\n",
    "data = pd.read_pickle(CONFIG.dataset.test_data_agg).to_numpy()\n",
    "dataset = SBICDataset(data, tokenizer, is_training=False)\n",
    "dataloader = make_dataloader(dataset, model, tokenizer, CONFIG.hp, split=\"validation\")\n",
    "\n",
    "test_res = evaluate(model, tokenizer, dataloader, CONFIG.hp)\n",
    "\n",
    "print_evaluation_results(split=split, res=test_res)"
   ]
  },
  {
   "cell_type": "code",
   "execution_count": 3,
   "metadata": {},
   "outputs": [
    {
     "data": {
      "text/plain": [
       "GPT2ForTweetClassification(\n",
       "  (gpt2): GPT2Model(\n",
       "    (wte): Embedding(50257, 768)\n",
       "    (wpe): Embedding(1024, 768)\n",
       "    (drop): Dropout(p=0.1, inplace=False)\n",
       "    (h): ModuleList(\n",
       "      (0-5): 6 x GPT2Block(\n",
       "        (ln_1): LayerNorm((768,), eps=1e-05, elementwise_affine=True)\n",
       "        (attn): GPT2Attention(\n",
       "          (c_attn): Conv1D()\n",
       "          (c_proj): Conv1D()\n",
       "          (attn_dropout): Dropout(p=0.1, inplace=False)\n",
       "          (resid_dropout): Dropout(p=0.1, inplace=False)\n",
       "        )\n",
       "        (ln_2): LayerNorm((768,), eps=1e-05, elementwise_affine=True)\n",
       "        (mlp): GPT2MLP(\n",
       "          (c_fc): Conv1D()\n",
       "          (c_proj): Conv1D()\n",
       "          (act): NewGELUActivation()\n",
       "          (dropout): Dropout(p=0.1, inplace=False)\n",
       "        )\n",
       "      )\n",
       "    )\n",
       "    (ln_f): LayerNorm((768,), eps=1e-05, elementwise_affine=True)\n",
       "  )\n",
       "  (lm_head): Linear(in_features=768, out_features=50257, bias=False)\n",
       "  (clssf_head): ClassificationHead(\n",
       "    (linear): Linear(in_features=768, out_features=1, bias=True)\n",
       "    (drop_out): Dropout(p=0.1, inplace=False)\n",
       "  )\n",
       ")"
      ]
     },
     "execution_count": 3,
     "metadata": {},
     "output_type": "execute_result"
    }
   ],
   "source": [
    "import transformers\n",
    "from src.model import *\n",
    "\n",
    "config = transformers.GPT2Config.from_pretrained(\"distilgpt2\")\n",
    "config.head_dropout = 0.1\n",
    "model = GPT2ForTweetClassification(config=config)\n",
    "\n",
    "# Add a [CLS] to the vocabulary (we should train it also!)\n",
    "num_added_tokens = tokenizer.add_special_tokens({\"cls_token\": \"[CLS]\"})\n",
    "# Update the model embeddings with the new vocabulary size\n",
    "embedding_layer = model.resize_token_embeddings(len(tokenizer))\n",
    "\n",
    "choices = [\"Hello, my dog is cute [CLS]\", \"Hello, my cat is cute [CLS]\"]\n",
    "encoded_choices = [tokenizer.encode(s) for s in choices]\n",
    "cls_token_location = [tokens.index(tokenizer.cls_token_id) for tokens in encoded_choices]\n",
    "\n",
    "input_ids = torch.tensor(encoded_choices).unsqueeze(0)  # Batch size: 1, number of choices: 2\n",
    "mc_token_ids = torch.tensor([cls_token_location])  # Batch size: 1\n",
    "\n",
    "outputs = model(input_ids, mc_token_ids=mc_token_ids)"
   ]
  }
 ],
 "metadata": {
  "kernelspec": {
   "display_name": "nlp",
   "language": "python",
   "name": "python3"
  },
  "language_info": {
   "codemirror_mode": {
    "name": "ipython",
    "version": 3
   },
   "file_extension": ".py",
   "mimetype": "text/x-python",
   "name": "python",
   "nbconvert_exporter": "python",
   "pygments_lexer": "ipython3",
   "version": "3.11.4"
  },
  "orig_nbformat": 4
 },
 "nbformat": 4,
 "nbformat_minor": 2
}
