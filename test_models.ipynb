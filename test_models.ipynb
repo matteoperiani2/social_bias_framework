{
 "cells": [
  {
   "cell_type": "code",
   "execution_count": 1,
   "metadata": {},
   "outputs": [],
   "source": [
    "%load_ext autoreload\n",
    "%autoreload 2"
   ]
  },
  {
   "cell_type": "code",
   "execution_count": 2,
   "metadata": {},
   "outputs": [
    {
     "name": "stderr",
     "output_type": "stream",
     "text": [
      "/Users/matteoperiani/miniconda3/envs/nlp/lib/python3.11/site-packages/tqdm/auto.py:21: TqdmWarning: IProgress not found. Please update jupyter and ipywidgets. See https://ipywidgets.readthedocs.io/en/stable/user_install.html\n",
      "  from .autonotebook import tqdm as notebook_tqdm\n"
     ]
    }
   ],
   "source": [
    "import numpy as np\n",
    "import pandas as pd\n",
    "import gc\n",
    "from tqdm.notebook import tqdm\n",
    "from collections import deque\n",
    "\n",
    "import torch\n",
    "from torch.optim import AdamW\n",
    "from torch.utils.data import DataLoader\n",
    "\n",
    "from transformers import AutoTokenizer, GPT2LMHeadModel, set_seed\n",
    "\n",
    "from src.config import Config\n",
    "from src.dataset2 import SBICDataset\n",
    "\n",
    "CONFIG:Config = Config()\n",
    "set_seed(CONFIG.seed)"
   ]
  },
  {
   "cell_type": "code",
   "execution_count": 3,
   "metadata": {},
   "outputs": [
    {
     "data": {
      "text/html": [
       "<div>\n",
       "<style scoped>\n",
       "    .dataframe tbody tr th:only-of-type {\n",
       "        vertical-align: middle;\n",
       "    }\n",
       "\n",
       "    .dataframe tbody tr th {\n",
       "        vertical-align: top;\n",
       "    }\n",
       "\n",
       "    .dataframe thead th {\n",
       "        text-align: right;\n",
       "    }\n",
       "</style>\n",
       "<table border=\"1\" class=\"dataframe\">\n",
       "  <thead>\n",
       "    <tr style=\"text-align: right;\">\n",
       "      <th></th>\n",
       "      <th>whoTarget</th>\n",
       "      <th>intentYN</th>\n",
       "      <th>sexYN</th>\n",
       "      <th>offensiveYN</th>\n",
       "      <th>speakerMinorityYN</th>\n",
       "      <th>post</th>\n",
       "      <th>targetMinority</th>\n",
       "      <th>targetCategory</th>\n",
       "      <th>targetStereotype</th>\n",
       "      <th>dataSource</th>\n",
       "    </tr>\n",
       "  </thead>\n",
       "  <tbody>\n",
       "    <tr>\n",
       "      <th>0</th>\n",
       "      <td>0.0</td>\n",
       "      <td>1.0</td>\n",
       "      <td>0.0</td>\n",
       "      <td>1.0</td>\n",
       "      <td>0.0</td>\n",
       "      <td>RT @_LexC__: I'm convinced that some of y'all ...</td>\n",
       "      <td></td>\n",
       "      <td></td>\n",
       "      <td></td>\n",
       "      <td>t/davidson</td>\n",
       "    </tr>\n",
       "    <tr>\n",
       "      <th>1</th>\n",
       "      <td>0.0</td>\n",
       "      <td>1.0</td>\n",
       "      <td>0.0</td>\n",
       "      <td>1.0</td>\n",
       "      <td>0.0</td>\n",
       "      <td>RT @_LexC__: I'm convinced that some of y'all ...</td>\n",
       "      <td></td>\n",
       "      <td></td>\n",
       "      <td></td>\n",
       "      <td>t/davidson</td>\n",
       "    </tr>\n",
       "    <tr>\n",
       "      <th>2</th>\n",
       "      <td>0.0</td>\n",
       "      <td>0.0</td>\n",
       "      <td>0.0</td>\n",
       "      <td>1.0</td>\n",
       "      <td>0.0</td>\n",
       "      <td>RT @_LexC__: I'm convinced that some of y'all ...</td>\n",
       "      <td></td>\n",
       "      <td></td>\n",
       "      <td></td>\n",
       "      <td>t/davidson</td>\n",
       "    </tr>\n",
       "    <tr>\n",
       "      <th>3</th>\n",
       "      <td>1.0</td>\n",
       "      <td>1.0</td>\n",
       "      <td>0.0</td>\n",
       "      <td>1.0</td>\n",
       "      <td>0.0</td>\n",
       "      <td>RT @iBeZo: Stupid fucking nigger LeBron. You f...</td>\n",
       "      <td>black folks</td>\n",
       "      <td>race</td>\n",
       "      <td>all stupid</td>\n",
       "      <td>t/davidson</td>\n",
       "    </tr>\n",
       "    <tr>\n",
       "      <th>4</th>\n",
       "      <td>1.0</td>\n",
       "      <td>1.0</td>\n",
       "      <td>0.0</td>\n",
       "      <td>1.0</td>\n",
       "      <td>0.0</td>\n",
       "      <td>RT @iBeZo: Stupid fucking nigger LeBron. You f...</td>\n",
       "      <td>black folks</td>\n",
       "      <td>race</td>\n",
       "      <td>are not people but apes.</td>\n",
       "      <td>t/davidson</td>\n",
       "    </tr>\n",
       "  </tbody>\n",
       "</table>\n",
       "</div>"
      ],
      "text/plain": [
       "   whoTarget  intentYN  sexYN  offensiveYN  speakerMinorityYN  \\\n",
       "0        0.0       1.0    0.0          1.0                0.0   \n",
       "1        0.0       1.0    0.0          1.0                0.0   \n",
       "2        0.0       0.0    0.0          1.0                0.0   \n",
       "3        1.0       1.0    0.0          1.0                0.0   \n",
       "4        1.0       1.0    0.0          1.0                0.0   \n",
       "\n",
       "                                                post targetMinority  \\\n",
       "0  RT @_LexC__: I'm convinced that some of y'all ...                  \n",
       "1  RT @_LexC__: I'm convinced that some of y'all ...                  \n",
       "2  RT @_LexC__: I'm convinced that some of y'all ...                  \n",
       "3  RT @iBeZo: Stupid fucking nigger LeBron. You f...    black folks   \n",
       "4  RT @iBeZo: Stupid fucking nigger LeBron. You f...    black folks   \n",
       "\n",
       "  targetCategory          targetStereotype  dataSource  \n",
       "0                                           t/davidson  \n",
       "1                                           t/davidson  \n",
       "2                                           t/davidson  \n",
       "3           race                all stupid  t/davidson  \n",
       "4           race  are not people but apes.  t/davidson  "
      ]
     },
     "execution_count": 3,
     "metadata": {},
     "output_type": "execute_result"
    }
   ],
   "source": [
    "df = pd.read_pickle(CONFIG.dataset.train_data_raw)\n",
    "df.head()"
   ]
  },
  {
   "cell_type": "code",
   "execution_count": 4,
   "metadata": {},
   "outputs": [
    {
     "name": "stderr",
     "output_type": "stream",
     "text": [
      "You are resizing the embedding layer without providing a `pad_to_multiple_of` parameter. This means that the new embedding dimension will be 50271. This might induce some performance reduction as *Tensor Cores* will not be available. For more details about this, or help on choosing the correct value for resizing, refer to this guide: https://docs.nvidia.com/deeplearning/performance/dl-performance-matrix-multiplication/index.html#requirements-tc\n"
     ]
    },
    {
     "name": "stdout",
     "output_type": "stream",
     "text": [
      "List of all special token and its token_id:\n",
      " - ['[STR]', '[END]', '<|endoftext|>', '[SEP]', '[PAD]', '[offY]', '[offN]', '[sexY]', '[sexN]', '[intY]', '[intN]', '[grpY]', '[grpN]', '[ingrpN]', '[ingrpY]']\n",
      " - [[50257], [50258], [50256], [50260], [50259], [50261], [50262], [50263], [50264], [50265], [50266], [50267], [50268], [50269], [50270]]\n",
      "Model vocab size pre resize: 50257\n",
      "Model vocab size post resize: 50271\n",
      "Model pad token: 50259\n",
      "Model sep token: 50260\n"
     ]
    }
   ],
   "source": [
    "tokenizer = AutoTokenizer.from_pretrained('distilgpt2', padding_side=\"left\")\n",
    "model = GPT2LMHeadModel.from_pretrained('distilgpt2')\n",
    "\n",
    "tokenizer.add_special_tokens(CONFIG.train_params.special_tokens)\n",
    "print(\"List of all special token and its token_id:\")\n",
    "print(\" -\", tokenizer.all_special_tokens)\n",
    "print(\" -\",tokenizer(tokenizer.all_special_tokens)[\"input_ids\"])\n",
    "print(\"Model vocab size pre resize:\", model.config.vocab_size)\n",
    "model.resize_token_embeddings(len(tokenizer))\n",
    "print(\"Model vocab size post resize:\", model.config.vocab_size)\n",
    "model.config.pad_token_id = tokenizer.pad_token_id\n",
    "model.config.sep_token_id = tokenizer.sep_token_id\n",
    "model.config.eos_token_id = tokenizer.eos_token_id\n",
    "model.config.bos_token_id = tokenizer.bos_token_id\n",
    "print(\"Model pad token:\", model.config.pad_token_id)\n",
    "print(\"Model sep token:\", model.config.sep_token_id)\n",
    "\n",
    "model.generation_config.max_new_tokens=50"
   ]
  },
  {
   "cell_type": "code",
   "execution_count": 5,
   "metadata": {},
   "outputs": [],
   "source": [
    "train_data = pd.read_pickle(CONFIG.dataset.train_data_raw).to_numpy()[4:5]\n",
    "# val_data = pd.read_pickle(CONFIG.dataset.val_data_raw).to_numpy()[:100]\n",
    "\n",
    "train_dataset = SBICDataset(train_data, tokenizer, max_sequence_length=256)\n",
    "# val_dataset = SBICDataset(val_data, tokenizer, CONFIG.utils.class_label_encoder)\n",
    "\n",
    "train_loader = DataLoader(train_dataset, batch_size=1, drop_last=False, shuffle=True, pin_memory=True)\n",
    "# val_loader   = DataLoader(val_dataset,   batch_size=CONFIG.train_params.batch_size, drop_last=False, shuffle=True, pin_memory=True)"
   ]
  },
  {
   "cell_type": "code",
   "execution_count": 6,
   "metadata": {},
   "outputs": [
    {
     "name": "stdout",
     "output_type": "stream",
     "text": [
      "Epoch 0: loss = 2.6974570751190186 iteration n°1\n",
      "Epoch 1: loss = 3.58070969581604 iteration n°1\n",
      "Epoch 2: loss = 2.1185483932495117 iteration n°1\n",
      "Epoch 3: loss = 4.631369590759277 iteration n°1\n",
      "Epoch 4: loss = 2.2688944339752197 iteration n°1\n",
      "Epoch 5: loss = 2.075911045074463 iteration n°1\n",
      "Epoch 6: loss = 1.9325586557388306 iteration n°1\n",
      "Epoch 7: loss = 1.038334608078003 iteration n°1\n",
      "Epoch 8: loss = 1.3439741134643555 iteration n°1\n",
      "Epoch 9: loss = 0.5002017617225647 iteration n°1\n",
      "Epoch 10: loss = 1.3969908952713013 iteration n°1\n",
      "Epoch 11: loss = 0.9687883257865906 iteration n°1\n",
      "Epoch 12: loss = 1.0952033996582031 iteration n°1\n",
      "Epoch 13: loss = 0.9150089621543884 iteration n°1\n",
      "Epoch 14: loss = 1.1024599075317383 iteration n°1\n",
      "Epoch 15: loss = 0.7421397566795349 iteration n°1\n",
      "Epoch 16: loss = 0.6298480033874512 iteration n°1\n",
      "Epoch 17: loss = 0.584059476852417 iteration n°1\n",
      "Epoch 18: loss = 0.5422685742378235 iteration n°1\n",
      "Epoch 19: loss = 0.4648604393005371 iteration n°1\n",
      "Epoch 20: loss = 0.47212982177734375 iteration n°1\n",
      "Epoch 21: loss = 0.4313235878944397 iteration n°1\n",
      "Epoch 22: loss = 0.4563405215740204 iteration n°1\n",
      "Epoch 23: loss = 0.40061330795288086 iteration n°1\n",
      "Epoch 24: loss = 0.21734768152236938 iteration n°1\n",
      "Epoch 25: loss = 0.38708624243736267 iteration n°1\n",
      "Epoch 26: loss = 0.29742226004600525 iteration n°1\n",
      "Epoch 27: loss = 0.16047246754169464 iteration n°1\n",
      "Epoch 28: loss = 0.13782911002635956 iteration n°1\n",
      "Epoch 29: loss = 0.06671243906021118 iteration n°1\n",
      "Epoch 30: loss = 0.07664553821086884 iteration n°1\n",
      "Epoch 31: loss = 0.07918313890695572 iteration n°1\n",
      "Epoch 32: loss = 0.3238239288330078 iteration n°1\n",
      "Epoch 33: loss = 0.5962650179862976 iteration n°1\n",
      "Epoch 34: loss = 0.09239822626113892 iteration n°1\n",
      "Epoch 35: loss = 0.048758864402770996 iteration n°1\n",
      "Epoch 36: loss = 0.019236698746681213 iteration n°1\n",
      "Epoch 37: loss = 0.011897489428520203 iteration n°1\n",
      "Epoch 38: loss = 0.010745699517428875 iteration n°1\n",
      "Epoch 39: loss = 0.007831206545233727 iteration n°1\n"
     ]
    }
   ],
   "source": [
    "# model = GPT2LMHeadModel.from_pretrained('gpt2')\n",
    "model.to(CONFIG.train_params.device)\n",
    "\n",
    "optimizer = AdamW(model.parameters(), lr=1e-4)\n",
    "\n",
    "total_loss = 0\n",
    "loss_epochs = deque(maxlen=40)\n",
    "\n",
    "for epoch in range(40):\n",
    "    model.train()\n",
    "    epoch_train_loss = 0.0\n",
    "    for n_iter, batch in enumerate(train_loader):\n",
    "        optimizer.zero_grad()\n",
    "\n",
    "        # for n_iter, batch in enumerate(tqdm(train_loader, total=len(train_loader))):\n",
    "        inputs = {k: v.to(CONFIG.train_params.device) for k, v in batch.items()}\n",
    "        \n",
    "        model.zero_grad()\n",
    "            \n",
    "        # Forward pass\n",
    "        outputs = model(input_ids=inputs[\"input_ids\"],\n",
    "                        attention_mask=inputs[\"attention_mask\"],\n",
    "                        labels = inputs[\"labels\"] )\n",
    "        loss, logit = outputs[:2]\n",
    "\n",
    "        total_loss += loss.item()\n",
    "\n",
    "        if n_iter % 10 == 0:\n",
    "            print(f\"Epoch {epoch}: loss = {loss.item()} iteration n°{n_iter+1}\")\n",
    "        \n",
    "        # Backward pass\n",
    "        loss.backward()\n",
    "        loss_epochs.append(loss.item())\n",
    "\n",
    "        torch.nn.utils.clip_grad_norm_(model.parameters(), 1.0)\n",
    "\n",
    "        optimizer.step()\n",
    "                \n",
    "        # gc.collect()\n",
    "\n",
    "    avg_epoch_loss = total_loss / len(train_loader)\n",
    "\n",
    "gc.collect\n",
    "torch.cuda.empty_cache()"
   ]
  },
  {
   "cell_type": "code",
   "execution_count": 7,
   "metadata": {},
   "outputs": [
    {
     "data": {
      "image/png": "[encoded data removed]",
      "text/plain": [
       "<Figure size 640x480 with 1 Axes>"
      ]
     },
     "metadata": {},
     "output_type": "display_data"
    }
   ],
   "source": [
    "import matplotlib.pyplot as plt\n",
    "\n",
    "plt.semilogy(loss_epochs)\n",
    "plt.xlabel(\"epochs\")\n",
    "plt.ylabel(\"loss\")\n",
    "plt.title(\"1 data point overfitted\")\n",
    "plt.show()"
   ]
  },
  {
   "cell_type": "code",
   "execution_count": 8,
   "metadata": {},
   "outputs": [
    {
     "name": "stdout",
     "output_type": "stream",
     "text": [
      "RT @iBeZo: Stupid fucking nigger LeBron. You flopping stupid jungle bunny monkey faggot. -> [intN] \n",
      "RT @iBeZo: Stupid fucking nigger LeBron. You flopping stupid jungle bunny monkey faggot.[intN] -> [intN] \n",
      "RT @iBeZo: Stupid fucking nigger LeBron. You flopping stupid jungle bunny monkey faggot.[intN][intN] -> [intN] \n"
     ]
    }
   ],
   "source": [
    "model.eval()\n",
    "\n",
    "post = train_data[0][5]\n",
    "# inputs_str = tokenizer.bos_token + post + tokenizer.sep_token\n",
    "inputs_str = post\n",
    "next_token = \"\"\n",
    "for i in range(3):\n",
    "    inputs_str += next_token\n",
    "    inputs = tokenizer(inputs_str, padding=\"max_length\", max_length=256, return_tensors=\"pt\")\n",
    "    inputs = {k: v.to(CONFIG.train_params.device) for k, v in inputs.items()}\n",
    "\n",
    "    outputs = model(**inputs)\n",
    "        \n",
    "    logits = outputs.logits[0, -1, :]\n",
    "    next_token = tokenizer.decode(torch.argmax(logits, axis=-1))\n",
    "\n",
    "    print(inputs_str, \"->\", next_token, \"\")"
   ]
  },
  {
   "cell_type": "code",
   "execution_count": 9,
   "metadata": {},
   "outputs": [
    {
     "name": "stderr",
     "output_type": "stream",
     "text": [
      "/Users/matteoperiani/miniconda3/envs/nlp/lib/python3.11/site-packages/transformers/generation/utils.py:1417: UserWarning: You have modified the pretrained model configuration to control generation. This is a deprecated strategy to control generation and will be removed soon, in a future version. Please use a generation configuration file (see https://huggingface.co/docs/transformers/main_classes/text_generation )\n",
      "  warnings.warn(\n"
     ]
    },
    {
     "name": "stdout",
     "output_type": "stream",
     "text": [
      "RT @iBeZo: Stupid fucking nigger LeBron. You flopping stupid jungle bunny monkey faggot.[SEP][offY][offY][offY][offY][offY][offY][offY][offY][offY][offY]\n"
     ]
    }
   ],
   "source": [
    "model.eval()\n",
    "\n",
    "with torch.no_grad():\n",
    "    for n_iter, batch in enumerate(train_loader):\n",
    "        inputs = {k: v.to(CONFIG.train_params.device) for k, v in batch.items()}\n",
    "        # text = tokenizer.decode(inputs[\"input_ids\"][0], skip_special_tokens=False).replace(\"[PAD]\", \"\")\n",
    "\n",
    "        outputs = model.generate(inputs[\"input_ids\"], max_new_tokens=10)\n",
    "\n",
    "        decoded_output = tokenizer.decode(outputs.cpu().numpy()[0], skip_special_tokens=False)\n",
    "        decoded_output = decoded_output.replace(\"[PAD]\", \"\")\n",
    "        print(decoded_output)"
   ]
  }
 ],
 "metadata": {
  "kernelspec": {
   "display_name": "nlp",
   "language": "python",
   "name": "python3"
  },
  "language_info": {
   "codemirror_mode": {
    "name": "ipython",
    "version": 3
   },
   "file_extension": ".py",
   "mimetype": "text/x-python",
   "name": "python",
   "nbconvert_exporter": "python",
   "pygments_lexer": "ipython3",
   "version": "3.11.4"
  },
  "orig_nbformat": 4
 },
 "nbformat": 4,
 "nbformat_minor": 2
}
