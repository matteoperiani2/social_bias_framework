{
 "cells": [
  {
   "cell_type": "code",
   "execution_count": 1,
   "metadata": {},
   "outputs": [],
   "source": [
    "import numpy as np\n",
    "import pandas as pd\n",
    "import os\n",
    "\n",
    "data_folder = \"data\"\n",
    "raw_folder = \"raw\"\n",
    "aggregate_folder = \"aggregated\""
   ]
  },
  {
   "cell_type": "code",
   "execution_count": 2,
   "metadata": {},
   "outputs": [
    {
     "data": {
      "text/html": [
       "<div>\n",
       "<style scoped>\n",
       "    .dataframe tbody tr th:only-of-type {\n",
       "        vertical-align: middle;\n",
       "    }\n",
       "\n",
       "    .dataframe tbody tr th {\n",
       "        vertical-align: top;\n",
       "    }\n",
       "\n",
       "    .dataframe thead th {\n",
       "        text-align: right;\n",
       "    }\n",
       "</style>\n",
       "<table border=\"1\" class=\"dataframe\">\n",
       "  <thead>\n",
       "    <tr style=\"text-align: right;\">\n",
       "      <th></th>\n",
       "      <th>post</th>\n",
       "      <th>targetMinority</th>\n",
       "      <th>targetCategory</th>\n",
       "      <th>targetStereotype</th>\n",
       "      <th>whoTarget</th>\n",
       "      <th>intentYN</th>\n",
       "      <th>sexYN</th>\n",
       "      <th>offensiveYN</th>\n",
       "      <th>hasBiasedImplication</th>\n",
       "    </tr>\n",
       "  </thead>\n",
       "  <tbody>\n",
       "    <tr>\n",
       "      <th>0</th>\n",
       "      <td>\\n\\nBill Kristol and Ben Shaprio, two turds in...</td>\n",
       "      <td>{}</td>\n",
       "      <td>[]</td>\n",
       "      <td>[]</td>\n",
       "      <td>0.0</td>\n",
       "      <td>0.886667</td>\n",
       "      <td>0.0</td>\n",
       "      <td>1.000000</td>\n",
       "      <td>1</td>\n",
       "    </tr>\n",
       "    <tr>\n",
       "      <th>1</th>\n",
       "      <td>\\n\\nRose\\n🌹Taylor‏ @RealRoseTaylor 6h6 hours a...</td>\n",
       "      <td>{}</td>\n",
       "      <td>[]</td>\n",
       "      <td>[]</td>\n",
       "      <td>NaN</td>\n",
       "      <td>0.220000</td>\n",
       "      <td>0.0</td>\n",
       "      <td>0.000000</td>\n",
       "      <td>1</td>\n",
       "    </tr>\n",
       "    <tr>\n",
       "      <th>2</th>\n",
       "      <td>\\nCharlie Kirk‏\\n\\nJohnny Depp calls for death...</td>\n",
       "      <td>{'liberals': 1.0}</td>\n",
       "      <td>[social, social]</td>\n",
       "      <td>[miscontrue things, take things in a weird way]</td>\n",
       "      <td>1.0</td>\n",
       "      <td>1.000000</td>\n",
       "      <td>0.0</td>\n",
       "      <td>1.000000</td>\n",
       "      <td>0</td>\n",
       "    </tr>\n",
       "    <tr>\n",
       "      <th>3</th>\n",
       "      <td>\\nDavid Knight‏ \\n\\nNotice how quickly things ...</td>\n",
       "      <td>{}</td>\n",
       "      <td>[]</td>\n",
       "      <td>[]</td>\n",
       "      <td>0.0</td>\n",
       "      <td>0.110000</td>\n",
       "      <td>0.0</td>\n",
       "      <td>0.166667</td>\n",
       "      <td>1</td>\n",
       "    </tr>\n",
       "    <tr>\n",
       "      <th>4</th>\n",
       "      <td>\\nFinland fireball: Time-lapse video shows nig...</td>\n",
       "      <td>{}</td>\n",
       "      <td>[]</td>\n",
       "      <td>[]</td>\n",
       "      <td>NaN</td>\n",
       "      <td>0.000000</td>\n",
       "      <td>0.0</td>\n",
       "      <td>0.000000</td>\n",
       "      <td>1</td>\n",
       "    </tr>\n",
       "  </tbody>\n",
       "</table>\n",
       "</div>"
      ],
      "text/plain": [
       "                                                post     targetMinority   \n",
       "0  \\n\\nBill Kristol and Ben Shaprio, two turds in...                 {}  \\\n",
       "1  \\n\\nRose\\n🌹Taylor‏ @RealRoseTaylor 6h6 hours a...                 {}   \n",
       "2  \\nCharlie Kirk‏\\n\\nJohnny Depp calls for death...  {'liberals': 1.0}   \n",
       "3  \\nDavid Knight‏ \\n\\nNotice how quickly things ...                 {}   \n",
       "4  \\nFinland fireball: Time-lapse video shows nig...                 {}   \n",
       "\n",
       "     targetCategory                                 targetStereotype   \n",
       "0                []                                               []  \\\n",
       "1                []                                               []   \n",
       "2  [social, social]  [miscontrue things, take things in a weird way]   \n",
       "3                []                                               []   \n",
       "4                []                                               []   \n",
       "\n",
       "   whoTarget  intentYN  sexYN  offensiveYN  hasBiasedImplication  \n",
       "0        0.0  0.886667    0.0     1.000000                     1  \n",
       "1        NaN  0.220000    0.0     0.000000                     1  \n",
       "2        1.0  1.000000    0.0     1.000000                     0  \n",
       "3        0.0  0.110000    0.0     0.166667                     1  \n",
       "4        NaN  0.000000    0.0     0.000000                     1  "
      ]
     },
     "execution_count": 2,
     "metadata": {},
     "output_type": "execute_result"
    }
   ],
   "source": [
    "df = pd.read_pickle(os.path.join(os.getcwd(), data_folder, aggregate_folder, \"train.pkl\"))\n",
    "df.head()"
   ]
  },
  {
   "cell_type": "code",
   "execution_count": 15,
   "metadata": {},
   "outputs": [
    {
     "data": {
      "text/plain": [
       "{'middle eastern folks': 0.29,\n",
       " 'muslim folks': 0.43,\n",
       " 'muslim folks, arabic folks': 0.29}"
      ]
     },
     "execution_count": 15,
     "metadata": {},
     "output_type": "execute_result"
    }
   ],
   "source": [
    "mask = df[\"targetMinority\"].apply(lambda x: len(x)>1)\n",
    "df[mask].iloc[0][\"targetMinority\"]"
   ]
  },
  {
   "cell_type": "code",
   "execution_count": 52,
   "metadata": {},
   "outputs": [
    {
     "data": {
      "text/plain": [
       "1180"
      ]
     },
     "execution_count": 52,
     "metadata": {},
     "output_type": "execute_result"
    }
   ],
   "source": [
    "len(df[\"targetMinority\"].explode().unique())"
   ]
  },
  {
   "cell_type": "code",
   "execution_count": 53,
   "metadata": {},
   "outputs": [
    {
     "data": {
      "text/plain": [
       "'\\u2060Why do wh*te people like to play hockey?  It’s the only other way to beat something black up if they’re not a cop.'"
      ]
     },
     "execution_count": 53,
     "metadata": {},
     "output_type": "execute_result"
    }
   ],
   "source": [
    "df.iloc[35396][\"post\"]"
   ]
  }
 ],
 "metadata": {
  "kernelspec": {
   "display_name": "nlp",
   "language": "python",
   "name": "python3"
  },
  "language_info": {
   "codemirror_mode": {
    "name": "ipython",
    "version": 3
   },
   "file_extension": ".py",
   "mimetype": "text/x-python",
   "name": "python",
   "nbconvert_exporter": "python",
   "pygments_lexer": "ipython3",
   "version": "3.8.10"
  },
  "orig_nbformat": 4
 },
 "nbformat": 4,
 "nbformat_minor": 2
}
