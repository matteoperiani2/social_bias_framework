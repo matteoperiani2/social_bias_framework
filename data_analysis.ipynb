{
 "cells": [
  {
   "cell_type": "code",
   "execution_count": 1,
   "metadata": {},
   "outputs": [],
   "source": [
    "%load_ext autoreload\n",
    "%autoreload 2"
   ]
  },
  {
   "cell_type": "code",
   "execution_count": 2,
   "metadata": {},
   "outputs": [
    {
     "name": "stderr",
     "output_type": "stream",
     "text": [
      "2023-10-09 16:16:54.839485: I tensorflow/core/platform/cpu_feature_guard.cc:182] This TensorFlow binary is optimized to use available CPU instructions in performance-critical operations.\n",
      "To enable the following instructions: AVX2 FMA, in other operations, rebuild TensorFlow with the appropriate compiler flags.\n",
      "2023-10-09 16:16:55.472220: W tensorflow/compiler/tf2tensorrt/utils/py_utils.cc:38] TF-TRT Warning: Could not find TensorRT\n",
      "[nltk_data] Downloading package wordnet to /home/matteo/nltk_data...\n",
      "[nltk_data]   Package wordnet is already up-to-date!\n",
      "[nltk_data] Downloading package stopwords to /home/matteo/nltk_data...\n",
      "[nltk_data]   Package stopwords is already up-to-date!\n"
     ]
    },
    {
     "data": {
      "text/plain": [
       "True"
      ]
     },
     "execution_count": 2,
     "metadata": {},
     "output_type": "execute_result"
    }
   ],
   "source": [
    "import numpy as np\n",
    "import pandas as pd\n",
    "import matplotlib.pyplot  as plt\n",
    "import seaborn as sns\n",
    "import string\n",
    "import re\n",
    "import preprocessor as proc\n",
    "import nltk\n",
    "\n",
    "from src.config import CONFIG\n",
    "from src.preprocessing import SBICDatasetPreprocessing\n",
    "from src.train_utils import make_tokinzer\n",
    "from src.utils import PropertyDict\n",
    "from nltk.corpus import stopwords\n",
    "\n",
    "nltk.download\n",
    "nltk.download('wordnet')\n",
    "nltk.download('stopwords')"
   ]
  },
  {
   "cell_type": "markdown",
   "metadata": {},
   "source": [
    "## Data Inspection"
   ]
  },
  {
   "cell_type": "code",
   "execution_count": 3,
   "metadata": {},
   "outputs": [
    {
     "data": {
      "text/html": [
       "<div>\n",
       "<style scoped>\n",
       "    .dataframe tbody tr th:only-of-type {\n",
       "        vertical-align: middle;\n",
       "    }\n",
       "\n",
       "    .dataframe tbody tr th {\n",
       "        vertical-align: top;\n",
       "    }\n",
       "\n",
       "    .dataframe thead th {\n",
       "        text-align: right;\n",
       "    }\n",
       "</style>\n",
       "<table border=\"1\" class=\"dataframe\">\n",
       "  <thead>\n",
       "    <tr style=\"text-align: right;\">\n",
       "      <th></th>\n",
       "      <th>whoTarget</th>\n",
       "      <th>intentYN</th>\n",
       "      <th>sexYN</th>\n",
       "      <th>sexReason</th>\n",
       "      <th>offensiveYN</th>\n",
       "      <th>annotatorGender</th>\n",
       "      <th>annotatorMinority</th>\n",
       "      <th>sexPhrase</th>\n",
       "      <th>speakerMinorityYN</th>\n",
       "      <th>WorkerId</th>\n",
       "      <th>HITId</th>\n",
       "      <th>annotatorPolitics</th>\n",
       "      <th>annotatorRace</th>\n",
       "      <th>annotatorAge</th>\n",
       "      <th>post</th>\n",
       "      <th>targetMinority</th>\n",
       "      <th>targetCategory</th>\n",
       "      <th>targetStereotype</th>\n",
       "      <th>dataSource</th>\n",
       "    </tr>\n",
       "  </thead>\n",
       "  <tbody>\n",
       "    <tr>\n",
       "      <th>0</th>\n",
       "      <td>0.0</td>\n",
       "      <td>0.66</td>\n",
       "      <td>0.0</td>\n",
       "      <td>NaN</td>\n",
       "      <td>1.0</td>\n",
       "      <td>woman</td>\n",
       "      <td>NaN</td>\n",
       "      <td>NaN</td>\n",
       "      <td>NaN</td>\n",
       "      <td>-8935932304856669427</td>\n",
       "      <td>363A7XIFV4G2799C5V96YERJA9AVAM</td>\n",
       "      <td>liberal</td>\n",
       "      <td>white</td>\n",
       "      <td>45.0</td>\n",
       "      <td>RT @_LexC__: I'm convinced that some of y'all ...</td>\n",
       "      <td>NaN</td>\n",
       "      <td>NaN</td>\n",
       "      <td>NaN</td>\n",
       "      <td>t/davidson</td>\n",
       "    </tr>\n",
       "    <tr>\n",
       "      <th>1</th>\n",
       "      <td>0.0</td>\n",
       "      <td>0.66</td>\n",
       "      <td>0.0</td>\n",
       "      <td>NaN</td>\n",
       "      <td>0.5</td>\n",
       "      <td>man</td>\n",
       "      <td>NaN</td>\n",
       "      <td>NaN</td>\n",
       "      <td>NaN</td>\n",
       "      <td>6347880360297734464</td>\n",
       "      <td>363A7XIFV4G2799C5V96YERJA9AVAM</td>\n",
       "      <td>mod-liberal</td>\n",
       "      <td>white</td>\n",
       "      <td>35.0</td>\n",
       "      <td>RT @_LexC__: I'm convinced that some of y'all ...</td>\n",
       "      <td>NaN</td>\n",
       "      <td>NaN</td>\n",
       "      <td>NaN</td>\n",
       "      <td>t/davidson</td>\n",
       "    </tr>\n",
       "    <tr>\n",
       "      <th>2</th>\n",
       "      <td>0.0</td>\n",
       "      <td>0.33</td>\n",
       "      <td>0.0</td>\n",
       "      <td>NaN</td>\n",
       "      <td>0.5</td>\n",
       "      <td>man</td>\n",
       "      <td>NaN</td>\n",
       "      <td>NaN</td>\n",
       "      <td>NaN</td>\n",
       "      <td>-7452610791699819066</td>\n",
       "      <td>363A7XIFV4G2799C5V96YERJA9AVAM</td>\n",
       "      <td>liberal</td>\n",
       "      <td>asian</td>\n",
       "      <td>23.0</td>\n",
       "      <td>RT @_LexC__: I'm convinced that some of y'all ...</td>\n",
       "      <td>NaN</td>\n",
       "      <td>NaN</td>\n",
       "      <td>NaN</td>\n",
       "      <td>t/davidson</td>\n",
       "    </tr>\n",
       "    <tr>\n",
       "      <th>3</th>\n",
       "      <td>1.0</td>\n",
       "      <td>1.00</td>\n",
       "      <td>0.0</td>\n",
       "      <td>NaN</td>\n",
       "      <td>1.0</td>\n",
       "      <td>man</td>\n",
       "      <td>NaN</td>\n",
       "      <td>NaN</td>\n",
       "      <td>0.0</td>\n",
       "      <td>-500114755446676507</td>\n",
       "      <td>3JTPR5MTZS6RLS3JBV4IOU0G2X35K5</td>\n",
       "      <td>liberal</td>\n",
       "      <td>white</td>\n",
       "      <td>25.0</td>\n",
       "      <td>RT @iBeZo: Stupid fucking nigger LeBron. You f...</td>\n",
       "      <td>black folks</td>\n",
       "      <td>race</td>\n",
       "      <td>all stupid</td>\n",
       "      <td>t/davidson</td>\n",
       "    </tr>\n",
       "    <tr>\n",
       "      <th>4</th>\n",
       "      <td>1.0</td>\n",
       "      <td>1.00</td>\n",
       "      <td>0.0</td>\n",
       "      <td>NaN</td>\n",
       "      <td>1.0</td>\n",
       "      <td>man</td>\n",
       "      <td>NaN</td>\n",
       "      <td>NaN</td>\n",
       "      <td>0.0</td>\n",
       "      <td>-500114755446676507</td>\n",
       "      <td>3JTPR5MTZS6RLS3JBV4IOU0G2X35K5</td>\n",
       "      <td>liberal</td>\n",
       "      <td>white</td>\n",
       "      <td>25.0</td>\n",
       "      <td>RT @iBeZo: Stupid fucking nigger LeBron. You f...</td>\n",
       "      <td>black folks</td>\n",
       "      <td>race</td>\n",
       "      <td>are not people but apes.</td>\n",
       "      <td>t/davidson</td>\n",
       "    </tr>\n",
       "  </tbody>\n",
       "</table>\n",
       "</div>"
      ],
      "text/plain": [
       "   whoTarget  intentYN  sexYN sexReason  offensiveYN annotatorGender  \\\n",
       "0        0.0      0.66    0.0       NaN          1.0           woman   \n",
       "1        0.0      0.66    0.0       NaN          0.5             man   \n",
       "2        0.0      0.33    0.0       NaN          0.5             man   \n",
       "3        1.0      1.00    0.0       NaN          1.0             man   \n",
       "4        1.0      1.00    0.0       NaN          1.0             man   \n",
       "\n",
       "  annotatorMinority sexPhrase  speakerMinorityYN             WorkerId  \\\n",
       "0               NaN       NaN                NaN -8935932304856669427   \n",
       "1               NaN       NaN                NaN  6347880360297734464   \n",
       "2               NaN       NaN                NaN -7452610791699819066   \n",
       "3               NaN       NaN                0.0  -500114755446676507   \n",
       "4               NaN       NaN                0.0  -500114755446676507   \n",
       "\n",
       "                            HITId annotatorPolitics annotatorRace  \\\n",
       "0  363A7XIFV4G2799C5V96YERJA9AVAM           liberal         white   \n",
       "1  363A7XIFV4G2799C5V96YERJA9AVAM       mod-liberal         white   \n",
       "2  363A7XIFV4G2799C5V96YERJA9AVAM           liberal         asian   \n",
       "3  3JTPR5MTZS6RLS3JBV4IOU0G2X35K5           liberal         white   \n",
       "4  3JTPR5MTZS6RLS3JBV4IOU0G2X35K5           liberal         white   \n",
       "\n",
       "   annotatorAge                                               post  \\\n",
       "0          45.0  RT @_LexC__: I'm convinced that some of y'all ...   \n",
       "1          35.0  RT @_LexC__: I'm convinced that some of y'all ...   \n",
       "2          23.0  RT @_LexC__: I'm convinced that some of y'all ...   \n",
       "3          25.0  RT @iBeZo: Stupid fucking nigger LeBron. You f...   \n",
       "4          25.0  RT @iBeZo: Stupid fucking nigger LeBron. You f...   \n",
       "\n",
       "  targetMinority targetCategory          targetStereotype  dataSource  \n",
       "0            NaN            NaN                       NaN  t/davidson  \n",
       "1            NaN            NaN                       NaN  t/davidson  \n",
       "2            NaN            NaN                       NaN  t/davidson  \n",
       "3    black folks           race                all stupid  t/davidson  \n",
       "4    black folks           race  are not people but apes.  t/davidson  "
      ]
     },
     "execution_count": 3,
     "metadata": {},
     "output_type": "execute_result"
    }
   ],
   "source": [
    "df = pd.read_csv(CONFIG.dataset.train_data_raw)\n",
    "df.head()"
   ]
  },
  {
   "cell_type": "code",
   "execution_count": 4,
   "metadata": {},
   "outputs": [
    {
     "data": {
      "text/plain": [
       "Index(['whoTarget', 'intentYN', 'sexYN', 'sexReason', 'offensiveYN',\n",
       "       'annotatorGender', 'annotatorMinority', 'sexPhrase',\n",
       "       'speakerMinorityYN', 'WorkerId', 'HITId', 'annotatorPolitics',\n",
       "       'annotatorRace', 'annotatorAge', 'post', 'targetMinority',\n",
       "       'targetCategory', 'targetStereotype', 'dataSource'],\n",
       "      dtype='object')"
      ]
     },
     "execution_count": 4,
     "metadata": {},
     "output_type": "execute_result"
    }
   ],
   "source": [
    "df.columns"
   ]
  },
  {
   "cell_type": "code",
   "execution_count": 5,
   "metadata": {},
   "outputs": [
    {
     "data": {
      "text/plain": [
       "array([nan, 'refers to lots of sexual activity', 'women wanting sex', ...,\n",
       "       'about masturbating', 'directly references masturbation',\n",
       "       'man with a small penis'], dtype=object)"
      ]
     },
     "execution_count": 5,
     "metadata": {},
     "output_type": "execute_result"
    }
   ],
   "source": [
    "df[\"sexReason\"].unique()"
   ]
  },
  {
   "cell_type": "code",
   "execution_count": 6,
   "metadata": {},
   "outputs": [
    {
     "data": {
      "text/plain": [
       "array([nan, 'hoe shit', 'hoes bent over', ...,\n",
       "       'I have scoliosis and shoulder higher than the other due to compulsive masturbation',\n",
       "       'compulsive masturbation',\n",
       "       'I have scoliosis and shoulder higher than the other due to compulsive masturbation If I had sex that never would have happened.'],\n",
       "      dtype=object)"
      ]
     },
     "execution_count": 6,
     "metadata": {},
     "output_type": "execute_result"
    }
   ],
   "source": [
    "df[\"sexPhrase\"].unique()"
   ]
  },
  {
   "cell_type": "code",
   "execution_count": 7,
   "metadata": {},
   "outputs": [
    {
     "name": "stdout",
     "output_type": "stream",
     "text": [
      "Tolal number of annotations: 112900\n",
      "\n",
      "Number of NaN values inside columns:\n",
      "whoTarget             46931\n",
      "intentYN                  0\n",
      "sexYN                     0\n",
      "sexReason            102520\n",
      "offensiveYN            2017\n",
      "annotatorGender           1\n",
      "annotatorMinority     86549\n",
      "sexPhrase            102507\n",
      "speakerMinorityYN     67437\n",
      "WorkerId                  0\n",
      "HITId                     0\n",
      "annotatorPolitics         1\n",
      "annotatorRace             1\n",
      "annotatorAge              1\n",
      "post                      0\n",
      "targetMinority        70406\n",
      "targetCategory        70406\n",
      "targetStereotype      71192\n",
      "dataSource                0\n",
      "dtype: int64\n"
     ]
    }
   ],
   "source": [
    "print(f\"Tolal number of annotations: {len(df)}\")\n",
    "print(\"\\nNumber of NaN values inside columns:\")\n",
    "print(df.isna().sum())"
   ]
  },
  {
   "cell_type": "code",
   "execution_count": 8,
   "metadata": {},
   "outputs": [
    {
     "data": {
      "text/plain": [
       "34.0"
      ]
     },
     "execution_count": 8,
     "metadata": {},
     "output_type": "execute_result"
    }
   ],
   "source": [
    "np.percentile(df['targetMinority'].fillna(\"\").str.len(), 99)\n"
   ]
  },
  {
   "cell_type": "code",
   "execution_count": 9,
   "metadata": {},
   "outputs": [
    {
     "data": {
      "image/png": "[encoded data removed]",
      "text/plain": [
       "<Figure size 2000x500 with 3 Axes>"
      ]
     },
     "metadata": {},
     "output_type": "display_data"
    },
    {
     "data": {
      "text/html": [
       "<div>\n",
       "<style scoped>\n",
       "    .dataframe tbody tr th:only-of-type {\n",
       "        vertical-align: middle;\n",
       "    }\n",
       "\n",
       "    .dataframe tbody tr th {\n",
       "        vertical-align: top;\n",
       "    }\n",
       "\n",
       "    .dataframe thead th {\n",
       "        text-align: right;\n",
       "    }\n",
       "</style>\n",
       "<table border=\"1\" class=\"dataframe\">\n",
       "  <thead>\n",
       "    <tr style=\"text-align: right;\">\n",
       "      <th></th>\n",
       "      <th>post_length</th>\n",
       "      <th>group_length</th>\n",
       "      <th>streotype_length</th>\n",
       "    </tr>\n",
       "  </thead>\n",
       "  <tbody>\n",
       "    <tr>\n",
       "      <th>count</th>\n",
       "      <td>112900.000000</td>\n",
       "      <td>112900.000000</td>\n",
       "      <td>112900.000000</td>\n",
       "    </tr>\n",
       "    <tr>\n",
       "      <th>mean</th>\n",
       "      <td>109.340425</td>\n",
       "      <td>4.748096</td>\n",
       "      <td>9.820204</td>\n",
       "    </tr>\n",
       "    <tr>\n",
       "      <th>std</th>\n",
       "      <td>61.957050</td>\n",
       "      <td>8.707602</td>\n",
       "      <td>14.277202</td>\n",
       "    </tr>\n",
       "    <tr>\n",
       "      <th>min</th>\n",
       "      <td>2.000000</td>\n",
       "      <td>0.000000</td>\n",
       "      <td>0.000000</td>\n",
       "    </tr>\n",
       "    <tr>\n",
       "      <th>25%</th>\n",
       "      <td>71.000000</td>\n",
       "      <td>0.000000</td>\n",
       "      <td>0.000000</td>\n",
       "    </tr>\n",
       "    <tr>\n",
       "      <th>50%</th>\n",
       "      <td>101.000000</td>\n",
       "      <td>0.000000</td>\n",
       "      <td>0.000000</td>\n",
       "    </tr>\n",
       "    <tr>\n",
       "      <th>75%</th>\n",
       "      <td>133.000000</td>\n",
       "      <td>11.000000</td>\n",
       "      <td>22.000000</td>\n",
       "    </tr>\n",
       "    <tr>\n",
       "      <th>max</th>\n",
       "      <td>1217.000000</td>\n",
       "      <td>124.000000</td>\n",
       "      <td>170.000000</td>\n",
       "    </tr>\n",
       "  </tbody>\n",
       "</table>\n",
       "</div>"
      ],
      "text/plain": [
       "         post_length   group_length  streotype_length\n",
       "count  112900.000000  112900.000000     112900.000000\n",
       "mean      109.340425       4.748096          9.820204\n",
       "std        61.957050       8.707602         14.277202\n",
       "min         2.000000       0.000000          0.000000\n",
       "25%        71.000000       0.000000          0.000000\n",
       "50%       101.000000       0.000000          0.000000\n",
       "75%       133.000000      11.000000         22.000000\n",
       "max      1217.000000     124.000000        170.000000"
      ]
     },
     "metadata": {},
     "output_type": "display_data"
    }
   ],
   "source": [
    "posts_len = df['post'].fillna(\"\").str.len().tolist()\n",
    "grps_len = df['targetMinority'].fillna(\"\").str.len().tolist()\n",
    "strps_len = df['targetStereotype'].fillna(\"\").str.len().tolist()\n",
    "\n",
    "fig, (ax1, ax2, ax3) = plt.subplots(1, 3, sharey=False, figsize=(20, 5))\n",
    "sns.histplot([len for len in posts_len if len != 0], ax=ax1)\n",
    "sns.histplot([len for len in grps_len if len != 0], ax=ax2)\n",
    "sns.histplot([len for len in strps_len if len != 0], ax=ax3)\n",
    "ax1.set_title(\"Length of post\")\n",
    "ax2.set_title(\"Length of targetted group\")\n",
    "ax3.set_title(\"Length of implied statemnt\")\n",
    "ax1.set_xlabel(\"length\")\n",
    "ax2.set_xlabel(\"length\")\n",
    "ax3.set_xlabel(\"length\")\n",
    "ax1.set_ylabel(\"count\")\n",
    "plt.show()\n",
    "\n",
    "tmp = pd.DataFrame(list(zip(posts_len, grps_len, strps_len)), columns=[\"post_length\", \"group_length\", \"streotype_length\"])\n",
    "display(tmp.describe())"
   ]
  },
  {
   "cell_type": "code",
   "execution_count": 10,
   "metadata": {},
   "outputs": [
    {
     "name": "stdout",
     "output_type": "stream",
     "text": [
      "List of all special token and its token_id:\n",
      " - ['<|endoftext|>', '<|sep|>', '<|pad|>', '<|offY|>', '<|offN|>', '<|sexY|>', '<|sexN|>', '<|intY|>', '<|intN|>', '<|grpY|>', '<|grpN|>', '<|ingrpN|>', '<|ingrpY|>']\n",
      " - [[50256], [50258], [50257], [50259], [50260], [50261], [50262], [50263], [50264], [50265], [50266], [50267], [50268]]\n"
     ]
    }
   ],
   "source": [
    "config = PropertyDict(\n",
    "    checkpoint_name=\"distilgpt2\",\n",
    "    model_name=\"distilgpt2\",\n",
    "    padding_side=\"left\",\n",
    ")\n",
    "\n",
    "tokenizer = make_tokinzer(config)"
   ]
  },
  {
   "cell_type": "code",
   "execution_count": 11,
   "metadata": {},
   "outputs": [
    {
     "data": {
      "image/png": "[encoded data removed]",
      "text/plain": [
       "<Figure size 2000x500 with 3 Axes>"
      ]
     },
     "metadata": {},
     "output_type": "display_data"
    },
    {
     "data": {
      "text/html": [
       "<div>\n",
       "<style scoped>\n",
       "    .dataframe tbody tr th:only-of-type {\n",
       "        vertical-align: middle;\n",
       "    }\n",
       "\n",
       "    .dataframe tbody tr th {\n",
       "        vertical-align: top;\n",
       "    }\n",
       "\n",
       "    .dataframe thead th {\n",
       "        text-align: right;\n",
       "    }\n",
       "</style>\n",
       "<table border=\"1\" class=\"dataframe\">\n",
       "  <thead>\n",
       "    <tr style=\"text-align: right;\">\n",
       "      <th></th>\n",
       "      <th>encoded_post_length</th>\n",
       "      <th>encoded_group_length</th>\n",
       "      <th>encoded_streotype_length</th>\n",
       "    </tr>\n",
       "  </thead>\n",
       "  <tbody>\n",
       "    <tr>\n",
       "      <th>count</th>\n",
       "      <td>112900.000000</td>\n",
       "      <td>112900.000000</td>\n",
       "      <td>112900.000000</td>\n",
       "    </tr>\n",
       "    <tr>\n",
       "      <th>mean</th>\n",
       "      <td>27.594198</td>\n",
       "      <td>1.014331</td>\n",
       "      <td>2.096457</td>\n",
       "    </tr>\n",
       "    <tr>\n",
       "      <th>std</th>\n",
       "      <td>16.773132</td>\n",
       "      <td>1.964257</td>\n",
       "      <td>3.055493</td>\n",
       "    </tr>\n",
       "    <tr>\n",
       "      <th>min</th>\n",
       "      <td>1.000000</td>\n",
       "      <td>0.000000</td>\n",
       "      <td>0.000000</td>\n",
       "    </tr>\n",
       "    <tr>\n",
       "      <th>25%</th>\n",
       "      <td>17.000000</td>\n",
       "      <td>0.000000</td>\n",
       "      <td>0.000000</td>\n",
       "    </tr>\n",
       "    <tr>\n",
       "      <th>50%</th>\n",
       "      <td>25.000000</td>\n",
       "      <td>0.000000</td>\n",
       "      <td>0.000000</td>\n",
       "    </tr>\n",
       "    <tr>\n",
       "      <th>75%</th>\n",
       "      <td>33.000000</td>\n",
       "      <td>2.000000</td>\n",
       "      <td>4.000000</td>\n",
       "    </tr>\n",
       "    <tr>\n",
       "      <th>max</th>\n",
       "      <td>558.000000</td>\n",
       "      <td>27.000000</td>\n",
       "      <td>36.000000</td>\n",
       "    </tr>\n",
       "  </tbody>\n",
       "</table>\n",
       "</div>"
      ],
      "text/plain": [
       "       encoded_post_length  encoded_group_length  encoded_streotype_length\n",
       "count        112900.000000         112900.000000             112900.000000\n",
       "mean             27.594198              1.014331                  2.096457\n",
       "std              16.773132              1.964257                  3.055493\n",
       "min               1.000000              0.000000                  0.000000\n",
       "25%              17.000000              0.000000                  0.000000\n",
       "50%              25.000000              0.000000                  0.000000\n",
       "75%              33.000000              2.000000                  4.000000\n",
       "max             558.000000             27.000000                 36.000000"
      ]
     },
     "metadata": {},
     "output_type": "display_data"
    }
   ],
   "source": [
    "enc_posts = tokenizer(df['post'].fillna(\"\").tolist())[\"input_ids\"]\n",
    "enc_groups = tokenizer(df['targetMinority'].fillna(\"\").tolist())[\"input_ids\"]\n",
    "enc_stereotypes = tokenizer(df['targetStereotype'].fillna(\"\").tolist())[\"input_ids\"]\n",
    "\n",
    "len_enc_posts = [len(enc) for enc in enc_posts]\n",
    "len_enc_groups = [len(enc) for enc in enc_groups]\n",
    "len_enc_stereotypes = [len(enc) for enc in enc_stereotypes]\n",
    "\n",
    "fig, (ax1, ax2, ax3) = plt.subplots(1, 3, sharey=False, figsize=(20, 5))\n",
    "sns.histplot([len for len in len_enc_posts if len != 0], ax=ax1)\n",
    "sns.histplot([len for len in len_enc_groups if len != 0], ax=ax2)\n",
    "sns.histplot([len for len in len_enc_stereotypes if len != 0], ax=ax3)\n",
    "ax1.set_title(\"Length of encoded post\")\n",
    "ax2.set_title(\"Length of encoded targetted group\")\n",
    "ax3.set_title(\"Length of encoded implied statemnt\")\n",
    "ax1.set_xlabel(\"length\")\n",
    "ax2.set_xlabel(\"length\")\n",
    "ax3.set_xlabel(\"length\")\n",
    "ax1.set_ylabel(\"count\")\n",
    "plt.show()\n",
    "\n",
    "tmp = pd.DataFrame(list(zip(len_enc_posts, len_enc_groups, len_enc_stereotypes)), columns=[\"encoded_post_length\", \"encoded_group_length\", \"encoded_streotype_length\"])\n",
    "display(tmp.describe())"
   ]
  },
  {
   "cell_type": "markdown",
   "metadata": {},
   "source": [
    "In the worst case, if we take all these three element considering their respective maximum length, the input would be $558 + 27 + 36 = 621$ tokens long and it's very far from the $1024$ GPT2 input max lenght. At this point, we are sure that no one post will be truncated when it will passed to the model as input."
   ]
  },
  {
   "cell_type": "markdown",
   "metadata": {},
   "source": [
    "## Train data Preprocessing"
   ]
  },
  {
   "cell_type": "markdown",
   "metadata": {},
   "source": [
    "### NaN Preprocessing"
   ]
  },
  {
   "cell_type": "code",
   "execution_count": 12,
   "metadata": {},
   "outputs": [],
   "source": [
    "textFields = ['targetMinority', 'targetStereotype']\n",
    "classFields = ['whoTarget', 'intentYN', 'sexYN','offensiveYN']\n",
    "columns_to_drop=[\"sexReason\", \"annotatorGender\", \"annotatorMinority\", \"sexPhrase\", \"WorkerId\", \"HITId\", \"annotatorPolitics\", \"annotatorRace\", \"annotatorAge\", \"targetCategory\"]\n",
    "\n",
    "preproc = SBICDatasetPreprocessing(tokenizer, \n",
    "                                   textFields=textFields,\n",
    "                                   classFields=classFields,\n",
    "                                   )"
   ]
  },
  {
   "cell_type": "markdown",
   "metadata": {},
   "source": [
    "As first preprocessing, we will remove those data that will not be used during training or inference time. Reorder also the columns to had better comprension of the data"
   ]
  },
  {
   "cell_type": "code",
   "execution_count": 13,
   "metadata": {},
   "outputs": [
    {
     "data": {
      "text/html": [
       "<div>\n",
       "<style scoped>\n",
       "    .dataframe tbody tr th:only-of-type {\n",
       "        vertical-align: middle;\n",
       "    }\n",
       "\n",
       "    .dataframe tbody tr th {\n",
       "        vertical-align: top;\n",
       "    }\n",
       "\n",
       "    .dataframe thead th {\n",
       "        text-align: right;\n",
       "    }\n",
       "</style>\n",
       "<table border=\"1\" class=\"dataframe\">\n",
       "  <thead>\n",
       "    <tr style=\"text-align: right;\">\n",
       "      <th></th>\n",
       "      <th>post</th>\n",
       "      <th>offensiveYN</th>\n",
       "      <th>intentYN</th>\n",
       "      <th>sexYN</th>\n",
       "      <th>groupTargetYN</th>\n",
       "      <th>targetGroup</th>\n",
       "      <th>targetStereotype</th>\n",
       "      <th>inGroupYN</th>\n",
       "      <th>dataSource</th>\n",
       "    </tr>\n",
       "  </thead>\n",
       "  <tbody>\n",
       "    <tr>\n",
       "      <th>0</th>\n",
       "      <td>RT @_LexC__: I'm convinced that some of y'all ...</td>\n",
       "      <td>1.0</td>\n",
       "      <td>0.66</td>\n",
       "      <td>0.0</td>\n",
       "      <td>0.0</td>\n",
       "      <td>NaN</td>\n",
       "      <td>NaN</td>\n",
       "      <td>NaN</td>\n",
       "      <td>t/davidson</td>\n",
       "    </tr>\n",
       "    <tr>\n",
       "      <th>1</th>\n",
       "      <td>RT @_LexC__: I'm convinced that some of y'all ...</td>\n",
       "      <td>0.5</td>\n",
       "      <td>0.66</td>\n",
       "      <td>0.0</td>\n",
       "      <td>0.0</td>\n",
       "      <td>NaN</td>\n",
       "      <td>NaN</td>\n",
       "      <td>NaN</td>\n",
       "      <td>t/davidson</td>\n",
       "    </tr>\n",
       "    <tr>\n",
       "      <th>2</th>\n",
       "      <td>RT @_LexC__: I'm convinced that some of y'all ...</td>\n",
       "      <td>0.5</td>\n",
       "      <td>0.33</td>\n",
       "      <td>0.0</td>\n",
       "      <td>0.0</td>\n",
       "      <td>NaN</td>\n",
       "      <td>NaN</td>\n",
       "      <td>NaN</td>\n",
       "      <td>t/davidson</td>\n",
       "    </tr>\n",
       "    <tr>\n",
       "      <th>3</th>\n",
       "      <td>RT @iBeZo: Stupid fucking nigger LeBron. You f...</td>\n",
       "      <td>1.0</td>\n",
       "      <td>1.00</td>\n",
       "      <td>0.0</td>\n",
       "      <td>1.0</td>\n",
       "      <td>black folks</td>\n",
       "      <td>all stupid</td>\n",
       "      <td>0.0</td>\n",
       "      <td>t/davidson</td>\n",
       "    </tr>\n",
       "    <tr>\n",
       "      <th>4</th>\n",
       "      <td>RT @iBeZo: Stupid fucking nigger LeBron. You f...</td>\n",
       "      <td>1.0</td>\n",
       "      <td>1.00</td>\n",
       "      <td>0.0</td>\n",
       "      <td>1.0</td>\n",
       "      <td>black folks</td>\n",
       "      <td>are not people but apes.</td>\n",
       "      <td>0.0</td>\n",
       "      <td>t/davidson</td>\n",
       "    </tr>\n",
       "  </tbody>\n",
       "</table>\n",
       "</div>"
      ],
      "text/plain": [
       "                                                post  offensiveYN  intentYN  \\\n",
       "0  RT @_LexC__: I'm convinced that some of y'all ...          1.0      0.66   \n",
       "1  RT @_LexC__: I'm convinced that some of y'all ...          0.5      0.66   \n",
       "2  RT @_LexC__: I'm convinced that some of y'all ...          0.5      0.33   \n",
       "3  RT @iBeZo: Stupid fucking nigger LeBron. You f...          1.0      1.00   \n",
       "4  RT @iBeZo: Stupid fucking nigger LeBron. You f...          1.0      1.00   \n",
       "\n",
       "   sexYN  groupTargetYN  targetGroup          targetStereotype  inGroupYN  \\\n",
       "0    0.0            0.0          NaN                       NaN        NaN   \n",
       "1    0.0            0.0          NaN                       NaN        NaN   \n",
       "2    0.0            0.0          NaN                       NaN        NaN   \n",
       "3    0.0            1.0  black folks                all stupid        0.0   \n",
       "4    0.0            1.0  black folks  are not people but apes.        0.0   \n",
       "\n",
       "   dataSource  \n",
       "0  t/davidson  \n",
       "1  t/davidson  \n",
       "2  t/davidson  \n",
       "3  t/davidson  \n",
       "4  t/davidson  "
      ]
     },
     "execution_count": 13,
     "metadata": {},
     "output_type": "execute_result"
    }
   ],
   "source": [
    "df_red = df.drop(columns=columns_to_drop, axis=1)\n",
    "cols = ['post', 'offensiveYN', 'intentYN', 'sexYN', 'whoTarget', 'targetMinority', 'targetStereotype', 'speakerMinorityYN', 'dataSource']\n",
    "df_red = df_red[cols]\n",
    "df_red = df_red.rename(columns={\"whoTarget\": \"groupTargetYN\", \"speakerMinorityYN\": \"inGroupYN\", 'targetMinority': 'targetGroup'})\n",
    "df_red.head()"
   ]
  },
  {
   "cell_type": "markdown",
   "metadata": {},
   "source": [
    "Recall number of NaN present in the data"
   ]
  },
  {
   "cell_type": "code",
   "execution_count": 14,
   "metadata": {},
   "outputs": [
    {
     "data": {
      "text/plain": [
       "post                    0\n",
       "offensiveYN          2017\n",
       "intentYN                0\n",
       "sexYN                   0\n",
       "groupTargetYN       46931\n",
       "targetGroup         70406\n",
       "targetStereotype    71192\n",
       "inGroupYN           67437\n",
       "dataSource              0\n",
       "dtype: int64"
      ]
     },
     "metadata": {},
     "output_type": "display_data"
    },
    {
     "name": "stdout",
     "output_type": "stream",
     "text": [
      "Number of post that have NaN offensive label: 2017 (1.8 %)\n"
     ]
    }
   ],
   "source": [
    "display(df_red.isna().sum())\n",
    "\n",
    "nan_off_ann = df_red[\"offensiveYN\"].isna().sum()\n",
    "print(f\"Number of post that have NaN offensive label: {nan_off_ann} ({nan_off_ann/len(df_red)*100:.1f} %)\")"
   ]
  },
  {
   "cell_type": "markdown",
   "metadata": {},
   "source": [
    "As you can see, there are several nan in last columns and this can be due to the fact that if a post isn't offensive, annotator doesn't fill these fields. At the same time, first column should not present any nan. \n",
    "\n",
    "Since, the presence of the nan in the offensive colum is very small and it could lead to error during the training, we decide to drop them."
   ]
  },
  {
   "cell_type": "code",
   "execution_count": 15,
   "metadata": {},
   "outputs": [
    {
     "data": {
      "text/plain": [
       "post                    0\n",
       "offensiveYN             0\n",
       "intentYN                0\n",
       "sexYN                   0\n",
       "groupTargetYN       45023\n",
       "targetGroup         68392\n",
       "targetStereotype    69178\n",
       "inGroupYN           65492\n",
       "dataSource              0\n",
       "dtype: int64"
      ]
     },
     "metadata": {},
     "output_type": "display_data"
    }
   ],
   "source": [
    "drop_idx = [idx for idx,val in (df_red[\"offensiveYN\"].isna()).items() if val]\n",
    "df_red = df_red.drop(drop_idx)\n",
    "display(df_red.isna().sum())"
   ]
  },
  {
   "cell_type": "markdown",
   "metadata": {},
   "source": [
    "Now, move on to the columns *groupTargetYN*. It indicates if a post targets a group or an individual. The presence of so many nan values can be justify to the fact that, if a post was annotated as not offensive, this field should not contains any values. In order to have better understanding od the data, plot some statistics."
   ]
  },
  {
   "cell_type": "code",
   "execution_count": 16,
   "metadata": {},
   "outputs": [
    {
     "name": "stdout",
     "output_type": "stream",
     "text": [
      "Total not offensive annotations: \t46673\n",
      "Total nan values:\t\t\t45023\n",
      "Total nan values with offensive=0:\t45023\n",
      "Total nan values with offensive=1:\t1650\n"
     ]
    }
   ],
   "source": [
    "nooff_mask = df_red['offensiveYN'] < 0.5\n",
    "nogrp_mask = df_red[\"groupTargetYN\"].isna()\n",
    "\n",
    "print(f\"Total not offensive annotations: \\t{sum(nooff_mask)}\")\n",
    "print(f\"Total nan values:\\t\\t\\t{sum(nogrp_mask)}\")\n",
    "print(f\"Total nan values with offensive=0:\\t{sum(df_red[nogrp_mask]['offensiveYN'] < 0.5)}\")\n",
    "print(f\"Total nan values with offensive=1:\\t{sum(~df_red[nooff_mask]['groupTargetYN'].isna())}\")"
   ]
  },
  {
   "cell_type": "markdown",
   "metadata": {},
   "source": [
    "All NaN values in *groupTargetYN* are due to the presence of annotation with offensiveness set to zero. At the same time, not all not offensive annotations have set to NaN this column. So, we drop this features."
   ]
  },
  {
   "cell_type": "code",
   "execution_count": 17,
   "metadata": {},
   "outputs": [
    {
     "data": {
      "text/plain": [
       "post                    0\n",
       "offensiveYN             0\n",
       "intentYN                0\n",
       "sexYN                   0\n",
       "groupTargetYN       45023\n",
       "targetGroup         66750\n",
       "targetStereotype    67536\n",
       "inGroupYN           65376\n",
       "dataSource              0\n",
       "dtype: int64"
      ]
     },
     "metadata": {},
     "output_type": "display_data"
    }
   ],
   "source": [
    "drop_idx = [idx for idx,val in (~df_red[nooff_mask]['groupTargetYN'].isna()).items() if val]\n",
    "df_red = df_red.drop(drop_idx)\n",
    "display(df_red.isna().sum())"
   ]
  },
  {
   "cell_type": "code",
   "execution_count": null,
   "metadata": {},
   "outputs": [],
   "source": []
  },
  {
   "cell_type": "markdown",
   "metadata": {},
   "source": [
    "\n",
    "At this point, we had to check the correctness of the *targetGroup* and *targetStereotype* columns. They should have a NaN values if:\n",
    "- a post is not considered not offensive\n",
    "- if the *groupTargetYN* field had a value equal to 0\n",
    "\n",
    "So, in order to check, we want understand how many annotation break these rules."
   ]
  },
  {
   "cell_type": "code",
   "execution_count": 18,
   "metadata": {},
   "outputs": [
    {
     "name": "stdout",
     "output_type": "stream",
     "text": [
      "Analysis of targetGroup columns\n",
      "Total not nan values if offensive=0:\t3\n",
      "Total not nan values if group=0:\t\t115\n",
      "\n",
      "Analysis of targetStereotype columns\n",
      "Total not nan values if offensive=0:\t3\n",
      "Total not nan values if group=0:\t\t112\n",
      "Total nan values if targetted group is set:\t\t786\n"
     ]
    }
   ],
   "source": [
    "nooff_mask = df_red['offensiveYN'] < 0.5\n",
    "nogrp_mask = df_red[\"groupTargetYN\"] < 0.5\n",
    "tgtgrp_mask = ~df_red[\"targetGroup\"].isna()\n",
    "\n",
    "print(\"Analysis of targetGroup columns\")\n",
    "print(f\"Total not nan values if offensive=0:\\t{sum(~df_red[nooff_mask]['targetGroup'].isna())}\")\n",
    "print(f\"Total not nan values if group=0:\\t\\t{sum(~df_red[nogrp_mask]['targetGroup'].isna())}\")\n",
    "print()\n",
    "print(\"Analysis of targetStereotype columns\")\n",
    "print(f\"Total not nan values if offensive=0:\\t{sum(~df_red[nooff_mask]['targetStereotype'].isna())}\")\n",
    "print(f\"Total not nan values if group=0:\\t\\t{sum(~df_red[nogrp_mask]['targetStereotype'].isna())}\")\n",
    "print(f\"Total nan values if targetted group is set:\\t\\t{sum(df_red[tgtgrp_mask]['targetStereotype'].isna())}\")"
   ]
  },
  {
   "cell_type": "markdown",
   "metadata": {},
   "source": [
    "As you can see, there are some annotations that don't follow the rule and as we did previous, we drop it."
   ]
  },
  {
   "cell_type": "code",
   "execution_count": 19,
   "metadata": {},
   "outputs": [
    {
     "data": {
      "text/plain": [
       "post                    0\n",
       "offensiveYN             0\n",
       "intentYN                0\n",
       "sexYN                   0\n",
       "groupTargetYN       45020\n",
       "targetGroup         66750\n",
       "targetStereotype    66750\n",
       "inGroupYN           65346\n",
       "dataSource              0\n",
       "dtype: int64"
      ]
     },
     "metadata": {},
     "output_type": "display_data"
    }
   ],
   "source": [
    "drop_idx = [idx for idx,val in (~df_red[nooff_mask]['targetGroup'].isna()).items() if val]\n",
    "drop_idx2 = [idx for idx,val in (~df_red[nogrp_mask]['targetGroup'].isna()).items() if val]\n",
    "drop_idx3 = [idx for idx,val in (df_red[tgtgrp_mask]['targetStereotype'].isna()).items() if val]\n",
    "df_red = df_red.drop(set(drop_idx+drop_idx2+drop_idx3))\n",
    "display(df_red.isna().sum())"
   ]
  },
  {
   "cell_type": "markdown",
   "metadata": {},
   "source": [
    "Now, since for the columns *inGroupYN* we cannot infer any prior knowledge, we will replace NaN values with some placeholder.\n",
    "\n",
    "At this point, we had just to check the overall correctness of annotations. We consider wrong an annotation if:\n",
    "- if a post not offensive, is considered intentionally offensive or it refers to a group\n",
    "- if an offensive post that not refers to any group have a targetted group and stereotype set to some value"
   ]
  },
  {
   "cell_type": "code",
   "execution_count": 20,
   "metadata": {},
   "outputs": [
    {
     "data": {
      "text/plain": [
       "post                0\n",
       "offensiveYN         0\n",
       "intentYN            0\n",
       "sexYN               0\n",
       "groupTargetYN       0\n",
       "targetGroup         0\n",
       "targetStereotype    0\n",
       "inGroupYN           0\n",
       "dataSource          0\n",
       "dtype: int64"
      ]
     },
     "metadata": {},
     "output_type": "display_data"
    }
   ],
   "source": [
    "df_red[[\"groupTargetYN\", \"inGroupYN\"]] = df_red[[\"groupTargetYN\", \"inGroupYN\"]].fillna(2)\n",
    "df_red[[\"targetGroup\", \"targetStereotype\"]] = df_red[[\"targetGroup\", \"targetStereotype\"]].fillna(\"\")\n",
    "display(df_red.isna().sum())"
   ]
  },
  {
   "cell_type": "markdown",
   "metadata": {},
   "source": [
    "Binarize classification variable"
   ]
  },
  {
   "cell_type": "code",
   "execution_count": 21,
   "metadata": {},
   "outputs": [
    {
     "data": {
      "text/html": [
       "<div>\n",
       "<style scoped>\n",
       "    .dataframe tbody tr th:only-of-type {\n",
       "        vertical-align: middle;\n",
       "    }\n",
       "\n",
       "    .dataframe tbody tr th {\n",
       "        vertical-align: top;\n",
       "    }\n",
       "\n",
       "    .dataframe thead th {\n",
       "        text-align: right;\n",
       "    }\n",
       "</style>\n",
       "<table border=\"1\" class=\"dataframe\">\n",
       "  <thead>\n",
       "    <tr style=\"text-align: right;\">\n",
       "      <th></th>\n",
       "      <th>post</th>\n",
       "      <th>offensiveYN</th>\n",
       "      <th>intentYN</th>\n",
       "      <th>sexYN</th>\n",
       "      <th>groupTargetYN</th>\n",
       "      <th>targetGroup</th>\n",
       "      <th>targetStereotype</th>\n",
       "      <th>inGroupYN</th>\n",
       "      <th>dataSource</th>\n",
       "    </tr>\n",
       "  </thead>\n",
       "  <tbody>\n",
       "    <tr>\n",
       "      <th>0</th>\n",
       "      <td>RT @_LexC__: I'm convinced that some of y'all ...</td>\n",
       "      <td>1</td>\n",
       "      <td>1</td>\n",
       "      <td>0</td>\n",
       "      <td>0</td>\n",
       "      <td></td>\n",
       "      <td></td>\n",
       "      <td>2</td>\n",
       "      <td>t/davidson</td>\n",
       "    </tr>\n",
       "    <tr>\n",
       "      <th>1</th>\n",
       "      <td>RT @_LexC__: I'm convinced that some of y'all ...</td>\n",
       "      <td>1</td>\n",
       "      <td>1</td>\n",
       "      <td>0</td>\n",
       "      <td>0</td>\n",
       "      <td></td>\n",
       "      <td></td>\n",
       "      <td>2</td>\n",
       "      <td>t/davidson</td>\n",
       "    </tr>\n",
       "    <tr>\n",
       "      <th>2</th>\n",
       "      <td>RT @_LexC__: I'm convinced that some of y'all ...</td>\n",
       "      <td>1</td>\n",
       "      <td>0</td>\n",
       "      <td>0</td>\n",
       "      <td>0</td>\n",
       "      <td></td>\n",
       "      <td></td>\n",
       "      <td>2</td>\n",
       "      <td>t/davidson</td>\n",
       "    </tr>\n",
       "    <tr>\n",
       "      <th>3</th>\n",
       "      <td>RT @iBeZo: Stupid fucking nigger LeBron. You f...</td>\n",
       "      <td>1</td>\n",
       "      <td>1</td>\n",
       "      <td>0</td>\n",
       "      <td>1</td>\n",
       "      <td>black folks</td>\n",
       "      <td>all stupid</td>\n",
       "      <td>0</td>\n",
       "      <td>t/davidson</td>\n",
       "    </tr>\n",
       "    <tr>\n",
       "      <th>4</th>\n",
       "      <td>RT @iBeZo: Stupid fucking nigger LeBron. You f...</td>\n",
       "      <td>1</td>\n",
       "      <td>1</td>\n",
       "      <td>0</td>\n",
       "      <td>1</td>\n",
       "      <td>black folks</td>\n",
       "      <td>are not people but apes.</td>\n",
       "      <td>0</td>\n",
       "      <td>t/davidson</td>\n",
       "    </tr>\n",
       "  </tbody>\n",
       "</table>\n",
       "</div>"
      ],
      "text/plain": [
       "                                                post  offensiveYN  intentYN  \\\n",
       "0  RT @_LexC__: I'm convinced that some of y'all ...            1         1   \n",
       "1  RT @_LexC__: I'm convinced that some of y'all ...            1         1   \n",
       "2  RT @_LexC__: I'm convinced that some of y'all ...            1         0   \n",
       "3  RT @iBeZo: Stupid fucking nigger LeBron. You f...            1         1   \n",
       "4  RT @iBeZo: Stupid fucking nigger LeBron. You f...            1         1   \n",
       "\n",
       "   sexYN  groupTargetYN  targetGroup          targetStereotype  inGroupYN  \\\n",
       "0      0              0                                                 2   \n",
       "1      0              0                                                 2   \n",
       "2      0              0                                                 2   \n",
       "3      0              1  black folks                all stupid          0   \n",
       "4      0              1  black folks  are not people but apes.          0   \n",
       "\n",
       "   dataSource  \n",
       "0  t/davidson  \n",
       "1  t/davidson  \n",
       "2  t/davidson  \n",
       "3  t/davidson  \n",
       "4  t/davidson  "
      ]
     },
     "metadata": {},
     "output_type": "display_data"
    },
    {
     "name": "stdout",
     "output_type": "stream",
     "text": [
      "Element removed during pre processing: 4568\n"
     ]
    }
   ],
   "source": [
    "classFields = ['offensiveYN', 'intentYN', 'sexYN','groupTargetYN', \"inGroupYN\"]\n",
    "for field in  classFields:\n",
    "    df_red[field] = df_red[field].apply(lambda c: int(c>=0.5) if c < 2 else 2)\n",
    "display(df_red.head())\n",
    "df_red.to_pickle(CONFIG.dataset.train_data_preproc)\n",
    "\n",
    "print(\"Element removed during pre processing:\", len(df)-len(df_red))"
   ]
  },
  {
   "cell_type": "markdown",
   "metadata": {},
   "source": [
    "### Post Preprocessing"
   ]
  },
  {
   "cell_type": "code",
   "execution_count": null,
   "metadata": {},
   "outputs": [
    {
     "data": {
      "text/html": [
       "<div>\n",
       "<style scoped>\n",
       "    .dataframe tbody tr th:only-of-type {\n",
       "        vertical-align: middle;\n",
       "    }\n",
       "\n",
       "    .dataframe tbody tr th {\n",
       "        vertical-align: top;\n",
       "    }\n",
       "\n",
       "    .dataframe thead th {\n",
       "        text-align: right;\n",
       "    }\n",
       "</style>\n",
       "<table border=\"1\" class=\"dataframe\">\n",
       "  <thead>\n",
       "    <tr style=\"text-align: right;\">\n",
       "      <th></th>\n",
       "      <th>post</th>\n",
       "      <th>offensiveYN</th>\n",
       "      <th>intentYN</th>\n",
       "      <th>sexYN</th>\n",
       "      <th>groupTargetYN</th>\n",
       "      <th>targetGroup</th>\n",
       "      <th>targetStereotype</th>\n",
       "      <th>inGroupYN</th>\n",
       "      <th>dataSource</th>\n",
       "    </tr>\n",
       "  </thead>\n",
       "  <tbody>\n",
       "    <tr>\n",
       "      <th>0</th>\n",
       "      <td>RT @_LexC__: I'm convinced that some of y'all ...</td>\n",
       "      <td>1</td>\n",
       "      <td>1</td>\n",
       "      <td>0</td>\n",
       "      <td>0</td>\n",
       "      <td></td>\n",
       "      <td></td>\n",
       "      <td>2</td>\n",
       "      <td>t/davidson</td>\n",
       "    </tr>\n",
       "    <tr>\n",
       "      <th>1</th>\n",
       "      <td>RT @_LexC__: I'm convinced that some of y'all ...</td>\n",
       "      <td>1</td>\n",
       "      <td>1</td>\n",
       "      <td>0</td>\n",
       "      <td>0</td>\n",
       "      <td></td>\n",
       "      <td></td>\n",
       "      <td>2</td>\n",
       "      <td>t/davidson</td>\n",
       "    </tr>\n",
       "    <tr>\n",
       "      <th>2</th>\n",
       "      <td>RT @_LexC__: I'm convinced that some of y'all ...</td>\n",
       "      <td>1</td>\n",
       "      <td>0</td>\n",
       "      <td>0</td>\n",
       "      <td>0</td>\n",
       "      <td></td>\n",
       "      <td></td>\n",
       "      <td>2</td>\n",
       "      <td>t/davidson</td>\n",
       "    </tr>\n",
       "    <tr>\n",
       "      <th>3</th>\n",
       "      <td>RT @iBeZo: Stupid fucking nigger LeBron. You f...</td>\n",
       "      <td>1</td>\n",
       "      <td>1</td>\n",
       "      <td>0</td>\n",
       "      <td>1</td>\n",
       "      <td>black folks</td>\n",
       "      <td>all stupid</td>\n",
       "      <td>0</td>\n",
       "      <td>t/davidson</td>\n",
       "    </tr>\n",
       "    <tr>\n",
       "      <th>4</th>\n",
       "      <td>RT @iBeZo: Stupid fucking nigger LeBron. You f...</td>\n",
       "      <td>1</td>\n",
       "      <td>1</td>\n",
       "      <td>0</td>\n",
       "      <td>1</td>\n",
       "      <td>black folks</td>\n",
       "      <td>are not people but apes.</td>\n",
       "      <td>0</td>\n",
       "      <td>t/davidson</td>\n",
       "    </tr>\n",
       "  </tbody>\n",
       "</table>\n",
       "</div>"
      ],
      "text/plain": [
       "                                                post  offensiveYN  intentYN  \\\n",
       "0  RT @_LexC__: I'm convinced that some of y'all ...            1         1   \n",
       "1  RT @_LexC__: I'm convinced that some of y'all ...            1         1   \n",
       "2  RT @_LexC__: I'm convinced that some of y'all ...            1         0   \n",
       "3  RT @iBeZo: Stupid fucking nigger LeBron. You f...            1         1   \n",
       "4  RT @iBeZo: Stupid fucking nigger LeBron. You f...            1         1   \n",
       "\n",
       "   sexYN  groupTargetYN  targetGroup          targetStereotype  inGroupYN  \\\n",
       "0      0              0                                                 2   \n",
       "1      0              0                                                 2   \n",
       "2      0              0                                                 2   \n",
       "3      0              1  black folks                all stupid          0   \n",
       "4      0              1  black folks  are not people but apes.          0   \n",
       "\n",
       "   dataSource  \n",
       "0  t/davidson  \n",
       "1  t/davidson  \n",
       "2  t/davidson  \n",
       "3  t/davidson  \n",
       "4  t/davidson  "
      ]
     },
     "execution_count": 3,
     "metadata": {},
     "output_type": "execute_result"
    }
   ],
   "source": [
    "df = pd.read_pickle(CONFIG.dataset.train_data_preproc)\n",
    "df.head()"
   ]
  },
  {
   "cell_type": "code",
   "execution_count": null,
   "metadata": {},
   "outputs": [],
   "source": [
    "#HappyEmoticons\n",
    "emoticons = set([\n",
    "    ':-)', ':)', ';)', ':o)', ':]', ':3', ':c)', ':>', '=]', '8)', '=)', ':}',\n",
    "    ':^)', ':-D', ':D', '8-D', '8D', 'x-D', 'xD', 'X-D', 'XD', '=-D', '=D',\n",
    "    '=-3', '=3', ':-))', \":'-)\", \":')\", ':*', ':^*', '>:P', ':-P', ':P', 'X-P',\n",
    "    'x-p', 'xp', 'XP', ':-p', ':p', '=p', ':-b', ':b', '>:)', '>;)', '>:-)',\n",
    "    '<3', ':L', ':-/', '>:/', ':S', '>:[', ':@', ':-(', ':[', ':-||', '=L', ':<',\n",
    "    ':-[', ':-<', '=\\\\', '=/', '>:(', ':(', '>.<', \":'-(\", \":'(\", ':\\\\', ':-c',\n",
    "    ':c', ':{', '>:\\\\', ';('\n",
    "    ])\n",
    "\n",
    "emoji_pattern = re.compile(\"[\"\n",
    "         u\"\\U0001F600-\\U0001F64F\"  # emoticons\n",
    "         u\"\\U0001F300-\\U0001F5FF\"  # symbols & pictographs\n",
    "         u\"\\U0001F680-\\U0001F6FF\"  # transport & map symbols\n",
    "         u\"\\U0001F1E0-\\U0001F1FF\"  # flags (iOS)\n",
    "         u\"\\U00002702-\\U000027B0\"\n",
    "         u\"\\U000024C2-\\U0001F251\"\n",
    "         \"]+\", flags=re.UNICODE) \n",
    "\n",
    "html_pattern = re.compile(r\"&.*?;\")"
   ]
  },
  {
   "cell_type": "code",
   "execution_count": null,
   "metadata": {},
   "outputs": [],
   "source": [
    "def clean_tweets(tweet):\n",
    "    \n",
    "    stop_words = set(stopwords.words('english'))\n",
    "    # word_tokens = word_tokenize(tweet)\n",
    "    #after tweepy preprocessing the colon symbol left remain after      #removing mentions\n",
    "    tweet = proc.clean(tweet)\n",
    "\n",
    "    tweet = re.sub(r':', '', tweet)\n",
    "    tweet = re.sub(r'‚Ä¶', '', tweet)\n",
    "\n",
    "    #replace consecutive non-ASCII characters with a space\n",
    "    tweet = re.sub(r'[^\\x00-\\x7F]+',' ', tweet)\n",
    "    #remove emojis from tweet\n",
    "\n",
    "    tweet = emoji_pattern.sub(r'', tweet)\n",
    "    tweet = html_pattern.sub(r'', tweet)\n",
    "\n",
    "    #filter using NLTK library append it to a string\n",
    "    # filtered_tweet = [w for w in tweet.split(\" \") if not w in stop_words]\n",
    "    \n",
    "    return tweet\n",
    "\n",
    "    # filtered_tweet = []\n",
    "\n",
    "\n",
    "    # #looping through conditions\n",
    "    # for w in tweet.split(\" \"):\n",
    "    # #check tokens against stop words , emoticons and punctuations\n",
    "    #     if w not in stop_words and w not in emoticons and w not in string.punctuation:\n",
    "    #         filtered_tweet.append(w)\n",
    "\n",
    "    # return ' '.join(filtered_tweet)"
   ]
  },
  {
   "cell_type": "code",
   "execution_count": null,
   "metadata": {},
   "outputs": [
    {
     "name": "stdout",
     "output_type": "stream",
     "text": [
      "RT @_LexC__: I'm convinced that some of y'all bitches get pregnant purposely because \"birth control &amp; plan b pills\" are effective &#128533;&#128056;&#9749;&#65039;\n",
      " I'm convinced that some of y'all bitches get pregnant purposely because \"birth control  plan b pills\" are effective \n"
     ]
    }
   ],
   "source": [
    "print(df.iloc[0][\"post\"])\n",
    "df[\"post\"] = df[\"post\"].apply(lambda x: clean_tweets(x))\n",
    "print(df.iloc[0][\"post\"])"
   ]
  },
  {
   "cell_type": "code",
   "execution_count": null,
   "metadata": {},
   "outputs": [],
   "source": [
    "df = df.drop(columns=[\"dataSource\"], axis=1)\n",
    "df.to_pickle(CONFIG.dataset.train_data)"
   ]
  }
 ],
 "metadata": {
  "kernelspec": {
   "display_name": "nlp",
   "language": "python",
   "name": "python3"
  },
  "language_info": {
   "codemirror_mode": {
    "name": "ipython",
    "version": 3
   },
   "file_extension": ".py",
   "mimetype": "text/x-python",
   "name": "python",
   "nbconvert_exporter": "python",
   "pygments_lexer": "ipython3",
   "version": "3.11.4"
  },
  "orig_nbformat": 4
 },
 "nbformat": 4,
 "nbformat_minor": 2
}
